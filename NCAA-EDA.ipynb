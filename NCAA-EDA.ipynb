{
 "cells": [
  {
   "cell_type": "markdown",
   "metadata": {},
   "source": [
    "<h1><center><font color=blue>**Bringing Sanity to the Madness of March**</font></center></h1>\n",
    "<h2><center>**Leading the March to Madness**</center></h2>\n",
    "<h3><center>General Assembly Data Science Immersive Capstone Project</center></h3> \n",
    "<h4><center>Data and Description at https://www.kaggle.com/c/mens-machine-learning-competition-2018</center></h4>"
   ]
  },
  {
   "cell_type": "code",
   "execution_count": 1,
   "metadata": {},
   "outputs": [],
   "source": [
    "import numpy as np \n",
    "import pandas as pd\n",
    "\n",
    "import matplotlib.pyplot as plt\n",
    "%matplotlib inline\n",
    "import seaborn as sns"
   ]
  },
  {
   "cell_type": "markdown",
   "metadata": {},
   "source": [
    "### All of the data with a couple of exceptions comes from the Google Cloud & NCAA Machine Learning 2018-Men's Basketball Tournament Competition.  Here we bring in all of the data that we will be using to help define our model."
   ]
  },
  {
   "cell_type": "code",
   "execution_count": 2,
   "metadata": {},
   "outputs": [],
   "source": [
    "df_tourney = pd.read_csv('./data/NCAATourneyCompactResults.csv')\n",
    "df_season = pd.read_csv('./data/RegularSeasonDetailedResults.csv')\n",
    "df_teams = pd.read_csv('./data/Teams.csv')\n",
    "df_seeds = pd.read_csv('./data/NCAATourneySeeds.csv')\n",
    "df_conferences = pd.read_csv('./data/Conferences.csv')\n",
    "df_rankings = pd.read_csv('./data/MasseyOrdinals_thruSeason2018_Day128.csv')\n",
    "df_sample_sub = pd.read_csv('./data/SampleSubmissionStage2.csv')\n",
    "#df_sample_sub = pd.read_csv('./data/SampleSubmissionStage1.csv')"
   ]
  },
  {
   "cell_type": "code",
   "execution_count": 3,
   "metadata": {},
   "outputs": [
    {
     "data": {
      "text/html": [
       "<div>\n",
       "<style>\n",
       "    .dataframe thead tr:only-child th {\n",
       "        text-align: right;\n",
       "    }\n",
       "\n",
       "    .dataframe thead th {\n",
       "        text-align: left;\n",
       "    }\n",
       "\n",
       "    .dataframe tbody tr th {\n",
       "        vertical-align: top;\n",
       "    }\n",
       "</style>\n",
       "<table border=\"1\" class=\"dataframe\">\n",
       "  <thead>\n",
       "    <tr style=\"text-align: right;\">\n",
       "      <th></th>\n",
       "      <th>Season</th>\n",
       "      <th>DayNum</th>\n",
       "      <th>WTeamID</th>\n",
       "      <th>WScore</th>\n",
       "      <th>LTeamID</th>\n",
       "      <th>LScore</th>\n",
       "      <th>WLoc</th>\n",
       "      <th>NumOT</th>\n",
       "      <th>WFGM</th>\n",
       "      <th>WFGA</th>\n",
       "      <th>...</th>\n",
       "      <th>LFGA3</th>\n",
       "      <th>LFTM</th>\n",
       "      <th>LFTA</th>\n",
       "      <th>LOR</th>\n",
       "      <th>LDR</th>\n",
       "      <th>LAst</th>\n",
       "      <th>LTO</th>\n",
       "      <th>LStl</th>\n",
       "      <th>LBlk</th>\n",
       "      <th>LPF</th>\n",
       "    </tr>\n",
       "  </thead>\n",
       "  <tbody>\n",
       "    <tr>\n",
       "      <th>0</th>\n",
       "      <td>2003</td>\n",
       "      <td>10</td>\n",
       "      <td>1104</td>\n",
       "      <td>68</td>\n",
       "      <td>1328</td>\n",
       "      <td>62</td>\n",
       "      <td>N</td>\n",
       "      <td>0</td>\n",
       "      <td>27</td>\n",
       "      <td>58</td>\n",
       "      <td>...</td>\n",
       "      <td>10</td>\n",
       "      <td>16</td>\n",
       "      <td>22</td>\n",
       "      <td>10</td>\n",
       "      <td>22</td>\n",
       "      <td>8</td>\n",
       "      <td>18</td>\n",
       "      <td>9</td>\n",
       "      <td>2</td>\n",
       "      <td>20</td>\n",
       "    </tr>\n",
       "    <tr>\n",
       "      <th>1</th>\n",
       "      <td>2003</td>\n",
       "      <td>10</td>\n",
       "      <td>1272</td>\n",
       "      <td>70</td>\n",
       "      <td>1393</td>\n",
       "      <td>63</td>\n",
       "      <td>N</td>\n",
       "      <td>0</td>\n",
       "      <td>26</td>\n",
       "      <td>62</td>\n",
       "      <td>...</td>\n",
       "      <td>24</td>\n",
       "      <td>9</td>\n",
       "      <td>20</td>\n",
       "      <td>20</td>\n",
       "      <td>25</td>\n",
       "      <td>7</td>\n",
       "      <td>12</td>\n",
       "      <td>8</td>\n",
       "      <td>6</td>\n",
       "      <td>16</td>\n",
       "    </tr>\n",
       "    <tr>\n",
       "      <th>2</th>\n",
       "      <td>2003</td>\n",
       "      <td>11</td>\n",
       "      <td>1266</td>\n",
       "      <td>73</td>\n",
       "      <td>1437</td>\n",
       "      <td>61</td>\n",
       "      <td>N</td>\n",
       "      <td>0</td>\n",
       "      <td>24</td>\n",
       "      <td>58</td>\n",
       "      <td>...</td>\n",
       "      <td>26</td>\n",
       "      <td>14</td>\n",
       "      <td>23</td>\n",
       "      <td>31</td>\n",
       "      <td>22</td>\n",
       "      <td>9</td>\n",
       "      <td>12</td>\n",
       "      <td>2</td>\n",
       "      <td>5</td>\n",
       "      <td>23</td>\n",
       "    </tr>\n",
       "    <tr>\n",
       "      <th>3</th>\n",
       "      <td>2003</td>\n",
       "      <td>11</td>\n",
       "      <td>1296</td>\n",
       "      <td>56</td>\n",
       "      <td>1457</td>\n",
       "      <td>50</td>\n",
       "      <td>N</td>\n",
       "      <td>0</td>\n",
       "      <td>18</td>\n",
       "      <td>38</td>\n",
       "      <td>...</td>\n",
       "      <td>22</td>\n",
       "      <td>8</td>\n",
       "      <td>15</td>\n",
       "      <td>17</td>\n",
       "      <td>20</td>\n",
       "      <td>9</td>\n",
       "      <td>19</td>\n",
       "      <td>4</td>\n",
       "      <td>3</td>\n",
       "      <td>23</td>\n",
       "    </tr>\n",
       "    <tr>\n",
       "      <th>4</th>\n",
       "      <td>2003</td>\n",
       "      <td>11</td>\n",
       "      <td>1400</td>\n",
       "      <td>77</td>\n",
       "      <td>1208</td>\n",
       "      <td>71</td>\n",
       "      <td>N</td>\n",
       "      <td>0</td>\n",
       "      <td>30</td>\n",
       "      <td>61</td>\n",
       "      <td>...</td>\n",
       "      <td>16</td>\n",
       "      <td>17</td>\n",
       "      <td>27</td>\n",
       "      <td>21</td>\n",
       "      <td>15</td>\n",
       "      <td>12</td>\n",
       "      <td>10</td>\n",
       "      <td>7</td>\n",
       "      <td>1</td>\n",
       "      <td>14</td>\n",
       "    </tr>\n",
       "  </tbody>\n",
       "</table>\n",
       "<p>5 rows × 34 columns</p>\n",
       "</div>"
      ],
      "text/plain": [
       "   Season  DayNum  WTeamID  WScore  LTeamID  LScore WLoc  NumOT  WFGM  WFGA  \\\n",
       "0    2003      10     1104      68     1328      62    N      0    27    58   \n",
       "1    2003      10     1272      70     1393      63    N      0    26    62   \n",
       "2    2003      11     1266      73     1437      61    N      0    24    58   \n",
       "3    2003      11     1296      56     1457      50    N      0    18    38   \n",
       "4    2003      11     1400      77     1208      71    N      0    30    61   \n",
       "\n",
       "  ...   LFGA3  LFTM  LFTA  LOR  LDR  LAst  LTO  LStl  LBlk  LPF  \n",
       "0 ...      10    16    22   10   22     8   18     9     2   20  \n",
       "1 ...      24     9    20   20   25     7   12     8     6   16  \n",
       "2 ...      26    14    23   31   22     9   12     2     5   23  \n",
       "3 ...      22     8    15   17   20     9   19     4     3   23  \n",
       "4 ...      16    17    27   21   15    12   10     7     1   14  \n",
       "\n",
       "[5 rows x 34 columns]"
      ]
     },
     "execution_count": 3,
     "metadata": {},
     "output_type": "execute_result"
    }
   ],
   "source": [
    "df_season.head()"
   ]
  },
  {
   "cell_type": "code",
   "execution_count": 4,
   "metadata": {},
   "outputs": [
    {
     "data": {
      "text/plain": [
       "array(['Season', 'DayNum', 'WTeamID', 'WScore', 'LTeamID', 'LScore',\n",
       "       'WLoc', 'NumOT', 'WFGM', 'WFGA', 'WFGM3', 'WFGA3', 'WFTM', 'WFTA',\n",
       "       'WOR', 'WDR', 'WAst', 'WTO', 'WStl', 'WBlk', 'WPF', 'LFGM', 'LFGA',\n",
       "       'LFGM3', 'LFGA3', 'LFTM', 'LFTA', 'LOR', 'LDR', 'LAst', 'LTO',\n",
       "       'LStl', 'LBlk', 'LPF'], dtype=object)"
      ]
     },
     "execution_count": 4,
     "metadata": {},
     "output_type": "execute_result"
    }
   ],
   "source": [
    "df_season.columns.values"
   ]
  },
  {
   "cell_type": "markdown",
   "metadata": {},
   "source": [
    "#### The Regular Season Detailed Results dataset has information on every Regular Season game played since 2003. It shows the day the game was played (with DayNum = 1 being the very first game played for that particular season usually in late October/early November), the winning and losing teams, the scores of both teams as well as all the usual statistics assocated with basketball.  This includes stats like Field Goals Made/Attempted, Steals, Blocks, etc.  \n",
    "\n",
    "#### In the next cell I will use NBA Analytics from the NBA Stuffer website from their Team Evaluation Metrics section: https://www.nbastuffer.com/analytics-101/  While the NBA and College games are different, the analytics stats would apply to the college game as well.\n",
    "\n",
    "#### For Possession, we use their basic formula using the statistics that are found in the Season dataset.  I'm using their Basic Possession Formula:\n",
    "\n",
    "\n",
    "$$Poss = 0.96[(FG_{Att}) + (TO) + 0.44(FT_{Att}) - OR]$$"
   ]
  },
  {
   "cell_type": "code",
   "execution_count": 5,
   "metadata": {},
   "outputs": [],
   "source": [
    "wPos = df_season.apply(lambda row: 0.96*(row.WFGA + row.WTO + 0.44*row.WFTA - row.WOR), axis=1)\n",
    "lPos = df_season.apply(lambda row: 0.96*(row.LFGA + row.LTO + 0.44*row.LFTA - row.LOR), axis=1)\n",
    "\n",
    "# The following creates a new column for each game with the assumption that both teams have the same # of possessions\n",
    "df_season['Possesions'] = (wPos+lPos)/2"
   ]
  },
  {
   "cell_type": "markdown",
   "metadata": {},
   "source": [
    "#### The next cell calculates an efficiency rating (again used in the NBA) called the Player Impact Estimate (PIE) from http://www.rustylarue.com/more-than-94/player-efficiency-stats.  \"PIE measures a player's overall statistical contribution against the total statistics in games they play in. Basically it is giving you a percentage showing how much of a positive or negative impact a player had on a game.\"\n",
    "\n",
    "#### The formula for PIE for the entire team is:\n",
    "\n",
    "$$PIE = \\frac{Team(Pts Scored + FG_{Made} + FT_{Made} - FG_{Att} - FT_{Att} + DefReb + 0.5(OffReb) + Ast + Stl + 0.5(Blk) - PFouls - Turnovers)}{Total(Pts Scored + FG_{Made} + FT_{Made} - FG_{Att} - FT_{Att} + DefReb + 0.5(OffReb) + Ast + Stl + 0.5(Blk) - PFouls - Turnovers)}$$"
   ]
  },
  {
   "cell_type": "code",
   "execution_count": 6,
   "metadata": {},
   "outputs": [],
   "source": [
    "wtmp = df_season.apply(lambda row: row.WScore + row.WFGM + row.WFTM - row.WFGA - row.WFTA + \\\n",
    "                       row.WDR + 0.5*row.WOR + row.WAst +row.WStl + 0.5*row.WBlk - row.WPF - row.WTO, axis=1)\n",
    "ltmp = df_season.apply(lambda row: row.LScore + row.LFGM + row.LFTM - row.LFGA - row.LFTA + \\\n",
    "                       row.LDR + 0.5*row.LOR + row.LAst +row.LStl + 0.5*row.LBlk - row.LPF - row.LTO, axis=1) \n",
    "\n",
    "df_season['WPIE'] = wtmp/(wtmp + ltmp)\n",
    "df_season['LPIE'] = ltmp/(wtmp + ltmp)"
   ]
  },
  {
   "cell_type": "markdown",
   "metadata": {},
   "source": [
    "#### The next cells' calculations are what is called the Four Factors.  From https://www.nbastuffer.com/analytics101/four-factors/, \"these factors identify a team's strategic strengths and weaknesses.\"\n",
    "\n",
    "#### For Effective Field Goal Percentage, \n",
    "\n",
    "$$FG_{eff} = \\frac{FG_{made} + 0.5(3PointFG_{made})}{FG_{att}}$$"
   ]
  },
  {
   "cell_type": "code",
   "execution_count": 7,
   "metadata": {},
   "outputs": [],
   "source": [
    "df_season['WeFGP'] = df_season.apply(lambda row:(row.WFGM + 0.5 * row.WFGM3) / row.WFGA, axis=1)      \n",
    "df_season['LeFGP'] = df_season.apply(lambda row:(row.LFGM + 0.5 * row.LFGM3) / row.LFGA, axis=1) "
   ]
  },
  {
   "cell_type": "markdown",
   "metadata": {},
   "source": [
    "#### Turnover Rate:\n",
    "\n",
    "$$TO_{Rate} = \\frac{TO}{FG_{Made} + 0.44(FT_{Att}) + TO}$$"
   ]
  },
  {
   "cell_type": "code",
   "execution_count": 8,
   "metadata": {},
   "outputs": [],
   "source": [
    "df_season['WTOR'] = df_season.apply(lambda row: row.WTO / (row.WFGA + 0.44*row.WFTA + row.WTO), axis=1)\n",
    "df_season['LTOR'] = df_season.apply(lambda row: row.LTO / (row.LFGA + 0.44*row.LFTA + row.LTO), axis=1)"
   ]
  },
  {
   "cell_type": "markdown",
   "metadata": {},
   "source": [
    "#### Offensive Rebounding Percentage:\n",
    "\n",
    "$$OffReb_{Percentage} = \\frac{OR}{OR + DR_{opponent}}$$"
   ]
  },
  {
   "cell_type": "code",
   "execution_count": 9,
   "metadata": {},
   "outputs": [],
   "source": [
    "df_season['WORP'] = df_season.apply(lambda row: row.WOR / (row.WOR + row.LDR), axis=1)\n",
    "df_season['LORP'] = df_season.apply(lambda row: row.LOR / (row.LOR + row.WDR), axis=1)"
   ]
  },
  {
   "cell_type": "markdown",
   "metadata": {},
   "source": [
    "#### Free Throw Rate:\n",
    "\n",
    "$$FT_{Rate} = \\frac{FT_{Att}}{FG_{Att}} $$"
   ]
  },
  {
   "cell_type": "code",
   "execution_count": 10,
   "metadata": {},
   "outputs": [],
   "source": [
    "df_season['WFTAR'] = df_season.apply(lambda row: row.WFTA / row.WFGA, axis=1)\n",
    "df_season['LFTAR'] = df_season.apply(lambda row: row.LFTA / row.LFGA, axis=1)"
   ]
  },
  {
   "cell_type": "markdown",
   "metadata": {},
   "source": [
    "#### Again, from https://www.nbastuffer.com/analytics101/four-factors/:\n",
    "\n",
    "#### \"While these are the four essential factors that decide to win and to lose in the NBA, the factors do not carry equal weight. Dean Oliver has found the following weights as follows:\n",
    "1. Shooting (40%)\n",
    "2. Turnovers (25%)\n",
    "3. Rebounding (20%)\n",
    "4. Free Throws (15%)\n",
    "\n",
    "#### The number in parentheses is the approximate weight of each factor. Shooting is the most important factor, followed by turnovers, rebounding, and free throws. Each statistic measures a separate skill there’s no reason that a team can’t shoot well, commit few turnovers, rebound a high percentage of its misses and make frequent trips to the free throw line.\"\n",
    "\n",
    "$$FourFactor = 0.4(FG_{Eff}) + 0.25(TO_{Rate}) + 0.20(OffReb_{Percentage}) + 0.15(FT_{Rate})$$"
   ]
  },
  {
   "cell_type": "code",
   "execution_count": 11,
   "metadata": {},
   "outputs": [],
   "source": [
    "df_season['W4Factor'] = df_season.apply(lambda row: .40*row.WeFGP + .25*row.WTOR + .20*row.WORP + .15*row.WFTAR, axis=1)\n",
    "df_season['L4Factor'] = df_season.apply(lambda row: .40*row.LeFGP + .25*row.LTOR + .20*row.LORP + .15*row.LFTAR, axis=1)"
   ]
  },
  {
   "cell_type": "markdown",
   "metadata": {},
   "source": [
    "#### Offensive Efficiency (number of points scored per 100 possessions):\n",
    "\n",
    "$$Off_{Eff} = 100(\\frac{Score}{Poss})$$"
   ]
  },
  {
   "cell_type": "code",
   "execution_count": 12,
   "metadata": {},
   "outputs": [],
   "source": [
    "df_season['WOffRtg'] = df_season.apply(lambda row: 100 * (row.WScore / row.Possesions), axis=1)\n",
    "df_season['LOffRtg'] = df_season.apply(lambda row: 100 * (row.LScore / row.Possesions), axis=1)"
   ]
  },
  {
   "cell_type": "markdown",
   "metadata": {},
   "source": [
    "#### Defensive Efficiency (number of points a team allows per 100 opposing team possessions):\n",
    "\n",
    "$$Def_{Eff} = 100(\\frac{Score}{Poss})$$"
   ]
  },
  {
   "cell_type": "code",
   "execution_count": 13,
   "metadata": {},
   "outputs": [],
   "source": [
    "df_season['WDefRtg'] = df_season.LOffRtg\n",
    "df_season['LDefRtg'] = df_season.WOffRtg"
   ]
  },
  {
   "cell_type": "markdown",
   "metadata": {},
   "source": [
    "#### Assist Ratio (percentage of a team's possessions that ends in an assist:\n",
    "\n",
    "$$Ast_{Ratio} = \\frac{100(Ast)}{FG_{Att} + 0.44(FT_{Att}) + Ast + TO}$$"
   ]
  },
  {
   "cell_type": "code",
   "execution_count": 14,
   "metadata": {},
   "outputs": [],
   "source": [
    "df_season['WAstR'] = df_season.apply(lambda row: 100 * row.WAst / (row.WFGA + 0.44*row.WFTA + row.WAst + row.WTO), axis=1)\n",
    "df_season['LAstR'] = df_season.apply(lambda row: 100 * row.LAst / (row.LFGA + 0.44*row.LFTA + row.LAst + row.LTO), axis=1)"
   ]
  },
  {
   "cell_type": "markdown",
   "metadata": {},
   "source": [
    "#### Defensive Rebounding Percentage (team's ability to get defensive rebounds):\n",
    "\n",
    "$$DR_{Percentage} = \\frac{DR}{DR + OR}$$"
   ]
  },
  {
   "cell_type": "code",
   "execution_count": 15,
   "metadata": {},
   "outputs": [],
   "source": [
    "df_season['WDRP'] = df_season.apply(lambda row: row.WDR / (row.WDR + row.LOR), axis=1)\n",
    "df_season['LDRP'] = df_season.apply(lambda row: row.LDR / (row.LDR + row.WOR), axis=1) "
   ]
  },
  {
   "cell_type": "markdown",
   "metadata": {},
   "source": [
    "#### Free Throw Percentage:\n",
    "\n",
    "$$FT_{Percentage} = \\frac{FT_{Made}}{FT_{Att}}$$"
   ]
  },
  {
   "cell_type": "code",
   "execution_count": 16,
   "metadata": {},
   "outputs": [],
   "source": [
    "df_season['WFTPCT'] = df_season.apply(lambda row : 0 if row.WFTA < 1 else row.WFTM / row.WFTA, axis=1)\n",
    "df_season['LFTPCT'] = df_season.apply(lambda row : 0 if row.LFTA < 1 else row.LFTM / row.LFTA, axis=1)"
   ]
  },
  {
   "cell_type": "markdown",
   "metadata": {},
   "source": [
    "#### Now we can drop all the columns that we no longer need."
   ]
  },
  {
   "cell_type": "code",
   "execution_count": 17,
   "metadata": {},
   "outputs": [],
   "source": [
    "df_season.drop(['WFGM', 'WFGA', 'WFGM3', 'WFGA3', 'WFTM', 'WFTA', 'WOR', 'WDR', 'WAst', 'WTO', 'WStl', 'WBlk', 'WPF'], axis=1, inplace=True)\n",
    "df_season.drop(['LFGM', 'LFGA', 'LFGM3', 'LFGA3', 'LFTM', 'LFTA', 'LOR', 'LDR', 'LAst', 'LTO', 'LStl', 'LBlk', 'LPF'], axis=1, inplace=True)"
   ]
  },
  {
   "cell_type": "markdown",
   "metadata": {},
   "source": [
    "#### Now we create a new DataFrame to calculate season totals for each of the statistics that we have just created. First up we calculate the winning percentage for each team."
   ]
  },
  {
   "cell_type": "code",
   "execution_count": 18,
   "metadata": {},
   "outputs": [],
   "source": [
    "df_season_composite = pd.DataFrame()\n",
    "\n",
    "\n",
    "df_season_composite['WINS'] = df_season['WTeamID'].groupby([df_season['Season'], df_season['WTeamID']]).count()\n",
    "df_season_composite['LOSSES'] = df_season['LTeamID'].groupby([df_season['Season'], df_season['LTeamID']]).count()\n",
    "df_season_composite['WINPCT'] = df_season_composite['WINS'] / (df_season_composite['WINS'] + df_season_composite['LOSSES'])"
   ]
  },
  {
   "cell_type": "markdown",
   "metadata": {},
   "source": [
    "#### Now we calculate averages for games teams won and lost adding them to the DataFrame"
   ]
  },
  {
   "cell_type": "code",
   "execution_count": 19,
   "metadata": {},
   "outputs": [],
   "source": [
    "df_season_composite['WPIE'] = df_season['WPIE'].groupby([df_season['Season'], df_season['WTeamID']]).mean()\n",
    "df_season_composite['WeFGP'] = df_season['WeFGP'].groupby([df_season['Season'], df_season['WTeamID']]).mean()\n",
    "df_season_composite['WTOR'] = df_season['WTOR'].groupby([df_season['Season'], df_season['WTeamID']]).mean()\n",
    "df_season_composite['WORP'] = df_season['WORP'].groupby([df_season['Season'], df_season['WTeamID']]).mean()\n",
    "df_season_composite['WFTAR'] = df_season['WFTAR'].groupby([df_season['Season'], df_season['WTeamID']]).mean()\n",
    "df_season_composite['W4Factor'] = df_season['W4Factor'].groupby([df_season['Season'], df_season['WTeamID']]).mean()\n",
    "df_season_composite['WOffRtg'] = df_season['WOffRtg'].groupby([df_season['Season'], df_season['WTeamID']]).mean()\n",
    "df_season_composite['WDefRtg'] = df_season['WDefRtg'].groupby([df_season['Season'], df_season['WTeamID']]).mean()\n",
    "df_season_composite['WAstR'] = df_season['WAstR'].groupby([df_season['Season'], df_season['WTeamID']]).mean()\n",
    "df_season_composite['WDRP'] = df_season['WDRP'].groupby([df_season['Season'], df_season['WTeamID']]).mean()\n",
    "df_season_composite['WFTPCT'] = df_season['WFTPCT'].groupby([df_season['Season'], df_season['WTeamID']]).mean()\n",
    "\n",
    "\n",
    "df_season_composite['LPIE'] = df_season['LPIE'].groupby([df_season['Season'], df_season['LTeamID']]).mean()\n",
    "df_season_composite['LeFGP'] = df_season['LeFGP'].groupby([df_season['Season'], df_season['LTeamID']]).mean()\n",
    "df_season_composite['LTOR'] = df_season['LTOR'].groupby([df_season['Season'], df_season['LTeamID']]).mean()\n",
    "df_season_composite['LORP'] = df_season['LORP'].groupby([df_season['Season'], df_season['LTeamID']]).mean()\n",
    "df_season_composite['LFTAR'] = df_season['LFTAR'].groupby([df_season['Season'], df_season['LTeamID']]).mean()\n",
    "df_season_composite['L4Factor'] = df_season['L4Factor'].groupby([df_season['Season'], df_season['LTeamID']]).mean()\n",
    "df_season_composite['LOffRtg'] = df_season['LOffRtg'].groupby([df_season['Season'], df_season['LTeamID']]).mean()\n",
    "df_season_composite['LDefRtg'] = df_season['LDefRtg'].groupby([df_season['Season'], df_season['LTeamID']]).mean()\n",
    "df_season_composite['LAstR'] = df_season['LAstR'].groupby([df_season['Season'], df_season['LTeamID']]).mean()\n",
    "df_season_composite['LDRP'] = df_season['LDRP'].groupby([df_season['Season'], df_season['LTeamID']]).mean()\n",
    "df_season_composite['LFTPCT'] = df_season['LFTPCT'].groupby([df_season['Season'], df_season['LTeamID']]).mean()"
   ]
  },
  {
   "cell_type": "markdown",
   "metadata": {},
   "source": [
    "#### Now we calculated a weighted average of each statistic using the winning percentage to weight the statistic"
   ]
  },
  {
   "cell_type": "code",
   "execution_count": 20,
   "metadata": {},
   "outputs": [],
   "source": [
    "df_season_composite['PIE'] = df_season_composite['WPIE'] * df_season_composite['WINPCT'] + df_season_composite['LPIE'] * (1 - df_season_composite['WINPCT'])\n",
    "df_season_composite['FG_PCT'] = df_season_composite['WeFGP'] * df_season_composite['WINPCT'] + df_season_composite['LeFGP'] * (1 - df_season_composite['WINPCT'])\n",
    "df_season_composite['TURNOVER_RATE'] = df_season_composite['WTOR'] * df_season_composite['WINPCT'] + df_season_composite['LTOR'] * (1 - df_season_composite['WINPCT'])\n",
    "df_season_composite['OFF_REB_PCT'] = df_season_composite['WORP'] * df_season_composite['WINPCT'] + df_season_composite['LORP'] * (1 - df_season_composite['WINPCT'])\n",
    "df_season_composite['FT_RATE'] = df_season_composite['WFTAR'] * df_season_composite['WINPCT'] + df_season_composite['LFTAR'] * (1 - df_season_composite['WINPCT'])\n",
    "df_season_composite['4FACTOR'] = df_season_composite['W4Factor'] * df_season_composite['WINPCT'] + df_season_composite['L4Factor'] * (1 - df_season_composite['WINPCT'])\n",
    "df_season_composite['OFF_EFF'] = df_season_composite['WOffRtg'] * df_season_composite['WINPCT'] + df_season_composite['LOffRtg'] * (1 - df_season_composite['WINPCT'])\n",
    "df_season_composite['DEF_EFF'] = df_season_composite['WDefRtg'] * df_season_composite['WINPCT'] + df_season_composite['LDefRtg'] * (1 - df_season_composite['WINPCT'])\n",
    "df_season_composite['ASSIST_RATIO'] = df_season_composite['WAstR'] * df_season_composite['WINPCT'] + df_season_composite['LAstR'] * (1 - df_season_composite['WINPCT'])\n",
    "df_season_composite['DEF_REB_PCT'] = df_season_composite['WDRP'] * df_season_composite['WINPCT'] + df_season_composite['LDRP'] * (1 - df_season_composite['WINPCT'])\n",
    "df_season_composite['FT_PCT'] = df_season_composite['WFTPCT'] * df_season_composite['WINPCT'] + df_season_composite['LFTPCT'] * (1 - df_season_composite['WINPCT'])\n",
    "\n",
    "df_season_composite.reset_index(inplace = True)"
   ]
  },
  {
   "cell_type": "code",
   "execution_count": 21,
   "metadata": {},
   "outputs": [
    {
     "data": {
      "text/html": [
       "<div>\n",
       "<style>\n",
       "    .dataframe thead tr:only-child th {\n",
       "        text-align: right;\n",
       "    }\n",
       "\n",
       "    .dataframe thead th {\n",
       "        text-align: left;\n",
       "    }\n",
       "\n",
       "    .dataframe tbody tr th {\n",
       "        vertical-align: top;\n",
       "    }\n",
       "</style>\n",
       "<table border=\"1\" class=\"dataframe\">\n",
       "  <thead>\n",
       "    <tr style=\"text-align: right;\">\n",
       "      <th></th>\n",
       "      <th>Season</th>\n",
       "      <th>WTeamID</th>\n",
       "      <th>WINS</th>\n",
       "      <th>LOSSES</th>\n",
       "      <th>WINPCT</th>\n",
       "      <th>WPIE</th>\n",
       "      <th>WeFGP</th>\n",
       "      <th>WTOR</th>\n",
       "      <th>WORP</th>\n",
       "      <th>WFTAR</th>\n",
       "      <th>...</th>\n",
       "      <th>FG_PCT</th>\n",
       "      <th>TURNOVER_RATE</th>\n",
       "      <th>OFF_REB_PCT</th>\n",
       "      <th>FT_RATE</th>\n",
       "      <th>4FACTOR</th>\n",
       "      <th>OFF_EFF</th>\n",
       "      <th>DEF_EFF</th>\n",
       "      <th>ASSIST_RATIO</th>\n",
       "      <th>DEF_REB_PCT</th>\n",
       "      <th>FT_PCT</th>\n",
       "    </tr>\n",
       "  </thead>\n",
       "  <tbody>\n",
       "    <tr>\n",
       "      <th>0</th>\n",
       "      <td>2003</td>\n",
       "      <td>1102</td>\n",
       "      <td>12</td>\n",
       "      <td>16.0</td>\n",
       "      <td>0.428571</td>\n",
       "      <td>0.755263</td>\n",
       "      <td>0.692162</td>\n",
       "      <td>0.182036</td>\n",
       "      <td>0.172188</td>\n",
       "      <td>0.541714</td>\n",
       "      <td>...</td>\n",
       "      <td>0.584407</td>\n",
       "      <td>0.193121</td>\n",
       "      <td>0.168235</td>\n",
       "      <td>0.446693</td>\n",
       "      <td>0.382694</td>\n",
       "      <td>109.413676</td>\n",
       "      <td>109.196437</td>\n",
       "      <td>17.806128</td>\n",
       "      <td>0.630384</td>\n",
       "      <td>0.642402</td>\n",
       "    </tr>\n",
       "    <tr>\n",
       "      <th>1</th>\n",
       "      <td>2003</td>\n",
       "      <td>1103</td>\n",
       "      <td>13</td>\n",
       "      <td>14.0</td>\n",
       "      <td>0.481481</td>\n",
       "      <td>0.615446</td>\n",
       "      <td>0.592604</td>\n",
       "      <td>0.155195</td>\n",
       "      <td>0.318510</td>\n",
       "      <td>0.554488</td>\n",
       "      <td>...</td>\n",
       "      <td>0.536564</td>\n",
       "      <td>0.159805</td>\n",
       "      <td>0.305803</td>\n",
       "      <td>0.465135</td>\n",
       "      <td>0.385508</td>\n",
       "      <td>116.646559</td>\n",
       "      <td>116.357791</td>\n",
       "      <td>15.919638</td>\n",
       "      <td>0.626998</td>\n",
       "      <td>0.735271</td>\n",
       "    </tr>\n",
       "    <tr>\n",
       "      <th>2</th>\n",
       "      <td>2003</td>\n",
       "      <td>1104</td>\n",
       "      <td>17</td>\n",
       "      <td>11.0</td>\n",
       "      <td>0.607143</td>\n",
       "      <td>0.657820</td>\n",
       "      <td>0.506056</td>\n",
       "      <td>0.160278</td>\n",
       "      <td>0.367049</td>\n",
       "      <td>0.392488</td>\n",
       "      <td>...</td>\n",
       "      <td>0.475785</td>\n",
       "      <td>0.167275</td>\n",
       "      <td>0.371256</td>\n",
       "      <td>0.372350</td>\n",
       "      <td>0.362236</td>\n",
       "      <td>108.962065</td>\n",
       "      <td>102.913066</td>\n",
       "      <td>13.098331</td>\n",
       "      <td>0.686897</td>\n",
       "      <td>0.705168</td>\n",
       "    </tr>\n",
       "    <tr>\n",
       "      <th>3</th>\n",
       "      <td>2003</td>\n",
       "      <td>1105</td>\n",
       "      <td>7</td>\n",
       "      <td>19.0</td>\n",
       "      <td>0.269231</td>\n",
       "      <td>0.641277</td>\n",
       "      <td>0.488400</td>\n",
       "      <td>0.197495</td>\n",
       "      <td>0.383144</td>\n",
       "      <td>0.425332</td>\n",
       "      <td>...</td>\n",
       "      <td>0.457983</td>\n",
       "      <td>0.207792</td>\n",
       "      <td>0.335166</td>\n",
       "      <td>0.359501</td>\n",
       "      <td>0.356100</td>\n",
       "      <td>98.566149</td>\n",
       "      <td>105.483276</td>\n",
       "      <td>13.828799</td>\n",
       "      <td>0.641434</td>\n",
       "      <td>0.709598</td>\n",
       "    </tr>\n",
       "    <tr>\n",
       "      <th>4</th>\n",
       "      <td>2003</td>\n",
       "      <td>1106</td>\n",
       "      <td>13</td>\n",
       "      <td>15.0</td>\n",
       "      <td>0.464286</td>\n",
       "      <td>0.741382</td>\n",
       "      <td>0.517668</td>\n",
       "      <td>0.220207</td>\n",
       "      <td>0.378952</td>\n",
       "      <td>0.395797</td>\n",
       "      <td>...</td>\n",
       "      <td>0.481697</td>\n",
       "      <td>0.213721</td>\n",
       "      <td>0.349480</td>\n",
       "      <td>0.307563</td>\n",
       "      <td>0.362140</td>\n",
       "      <td>98.671208</td>\n",
       "      <td>99.137679</td>\n",
       "      <td>12.652692</td>\n",
       "      <td>0.679342</td>\n",
       "      <td>0.623158</td>\n",
       "    </tr>\n",
       "  </tbody>\n",
       "</table>\n",
       "<p>5 rows × 38 columns</p>\n",
       "</div>"
      ],
      "text/plain": [
       "   Season  WTeamID  WINS  LOSSES    WINPCT      WPIE     WeFGP      WTOR  \\\n",
       "0    2003     1102    12    16.0  0.428571  0.755263  0.692162  0.182036   \n",
       "1    2003     1103    13    14.0  0.481481  0.615446  0.592604  0.155195   \n",
       "2    2003     1104    17    11.0  0.607143  0.657820  0.506056  0.160278   \n",
       "3    2003     1105     7    19.0  0.269231  0.641277  0.488400  0.197495   \n",
       "4    2003     1106    13    15.0  0.464286  0.741382  0.517668  0.220207   \n",
       "\n",
       "       WORP     WFTAR    ...       FG_PCT  TURNOVER_RATE  OFF_REB_PCT  \\\n",
       "0  0.172188  0.541714    ...     0.584407       0.193121     0.168235   \n",
       "1  0.318510  0.554488    ...     0.536564       0.159805     0.305803   \n",
       "2  0.367049  0.392488    ...     0.475785       0.167275     0.371256   \n",
       "3  0.383144  0.425332    ...     0.457983       0.207792     0.335166   \n",
       "4  0.378952  0.395797    ...     0.481697       0.213721     0.349480   \n",
       "\n",
       "    FT_RATE   4FACTOR     OFF_EFF     DEF_EFF  ASSIST_RATIO  DEF_REB_PCT  \\\n",
       "0  0.446693  0.382694  109.413676  109.196437     17.806128     0.630384   \n",
       "1  0.465135  0.385508  116.646559  116.357791     15.919638     0.626998   \n",
       "2  0.372350  0.362236  108.962065  102.913066     13.098331     0.686897   \n",
       "3  0.359501  0.356100   98.566149  105.483276     13.828799     0.641434   \n",
       "4  0.307563  0.362140   98.671208   99.137679     12.652692     0.679342   \n",
       "\n",
       "     FT_PCT  \n",
       "0  0.642402  \n",
       "1  0.735271  \n",
       "2  0.705168  \n",
       "3  0.709598  \n",
       "4  0.623158  \n",
       "\n",
       "[5 rows x 38 columns]"
      ]
     },
     "execution_count": 21,
     "metadata": {},
     "output_type": "execute_result"
    }
   ],
   "source": [
    "df_season_composite.head()"
   ]
  },
  {
   "cell_type": "markdown",
   "metadata": {},
   "source": [
    "#### In 2014 and 2015, Kentucky and Wichita State went undefeated which creates null values in our new dataFrame since you can't calculate average statistics without Winning Percentage.  This is something that I've noticed several people have had to deal with when calculating overall team metrics.  We have to manually enter data for these missing columns."
   ]
  },
  {
   "cell_type": "code",
   "execution_count": 22,
   "metadata": {},
   "outputs": [
    {
     "data": {
      "text/html": [
       "<div>\n",
       "<style>\n",
       "    .dataframe thead tr:only-child th {\n",
       "        text-align: right;\n",
       "    }\n",
       "\n",
       "    .dataframe thead th {\n",
       "        text-align: left;\n",
       "    }\n",
       "\n",
       "    .dataframe tbody tr th {\n",
       "        vertical-align: top;\n",
       "    }\n",
       "</style>\n",
       "<table border=\"1\" class=\"dataframe\">\n",
       "  <thead>\n",
       "    <tr style=\"text-align: right;\">\n",
       "      <th></th>\n",
       "      <th>Season</th>\n",
       "      <th>WTeamID</th>\n",
       "      <th>WINS</th>\n",
       "      <th>LOSSES</th>\n",
       "      <th>WINPCT</th>\n",
       "      <th>WPIE</th>\n",
       "      <th>WeFGP</th>\n",
       "      <th>WTOR</th>\n",
       "      <th>WORP</th>\n",
       "      <th>WFTAR</th>\n",
       "      <th>...</th>\n",
       "      <th>FG_PCT</th>\n",
       "      <th>TURNOVER_RATE</th>\n",
       "      <th>OFF_REB_PCT</th>\n",
       "      <th>FT_RATE</th>\n",
       "      <th>4FACTOR</th>\n",
       "      <th>OFF_EFF</th>\n",
       "      <th>DEF_EFF</th>\n",
       "      <th>ASSIST_RATIO</th>\n",
       "      <th>DEF_REB_PCT</th>\n",
       "      <th>FT_PCT</th>\n",
       "    </tr>\n",
       "  </thead>\n",
       "  <tbody>\n",
       "    <tr>\n",
       "      <th>4064</th>\n",
       "      <td>2014</td>\n",
       "      <td>1455</td>\n",
       "      <td>33</td>\n",
       "      <td>NaN</td>\n",
       "      <td>NaN</td>\n",
       "      <td>0.697612</td>\n",
       "      <td>0.523191</td>\n",
       "      <td>0.137994</td>\n",
       "      <td>0.353977</td>\n",
       "      <td>0.479304</td>\n",
       "      <td>...</td>\n",
       "      <td>NaN</td>\n",
       "      <td>NaN</td>\n",
       "      <td>NaN</td>\n",
       "      <td>NaN</td>\n",
       "      <td>NaN</td>\n",
       "      <td>NaN</td>\n",
       "      <td>NaN</td>\n",
       "      <td>NaN</td>\n",
       "      <td>NaN</td>\n",
       "      <td>NaN</td>\n",
       "    </tr>\n",
       "    <tr>\n",
       "      <th>4211</th>\n",
       "      <td>2015</td>\n",
       "      <td>1246</td>\n",
       "      <td>34</td>\n",
       "      <td>NaN</td>\n",
       "      <td>NaN</td>\n",
       "      <td>0.809886</td>\n",
       "      <td>0.520134</td>\n",
       "      <td>0.137713</td>\n",
       "      <td>0.402745</td>\n",
       "      <td>0.451499</td>\n",
       "      <td>...</td>\n",
       "      <td>NaN</td>\n",
       "      <td>NaN</td>\n",
       "      <td>NaN</td>\n",
       "      <td>NaN</td>\n",
       "      <td>NaN</td>\n",
       "      <td>NaN</td>\n",
       "      <td>NaN</td>\n",
       "      <td>NaN</td>\n",
       "      <td>NaN</td>\n",
       "      <td>NaN</td>\n",
       "    </tr>\n",
       "  </tbody>\n",
       "</table>\n",
       "<p>2 rows × 38 columns</p>\n",
       "</div>"
      ],
      "text/plain": [
       "      Season  WTeamID  WINS  LOSSES  WINPCT      WPIE     WeFGP      WTOR  \\\n",
       "4064    2014     1455    33     NaN     NaN  0.697612  0.523191  0.137994   \n",
       "4211    2015     1246    34     NaN     NaN  0.809886  0.520134  0.137713   \n",
       "\n",
       "          WORP     WFTAR   ...    FG_PCT  TURNOVER_RATE  OFF_REB_PCT  FT_RATE  \\\n",
       "4064  0.353977  0.479304   ...       NaN            NaN          NaN      NaN   \n",
       "4211  0.402745  0.451499   ...       NaN            NaN          NaN      NaN   \n",
       "\n",
       "      4FACTOR  OFF_EFF  DEF_EFF  ASSIST_RATIO  DEF_REB_PCT  FT_PCT  \n",
       "4064      NaN      NaN      NaN           NaN          NaN     NaN  \n",
       "4211      NaN      NaN      NaN           NaN          NaN     NaN  \n",
       "\n",
       "[2 rows x 38 columns]"
      ]
     },
     "execution_count": 22,
     "metadata": {},
     "output_type": "execute_result"
    }
   ],
   "source": [
    "df_season_composite[df_season_composite['LOSSES'].isnull()]"
   ]
  },
  {
   "cell_type": "code",
   "execution_count": 23,
   "metadata": {},
   "outputs": [],
   "source": [
    "df_season_composite.loc[4064,'WINPCT'] = 1\n",
    "df_season_composite.loc[4064,'LOSSES'] = 0\n",
    "df_season_composite.loc[4064,'PIE'] = df_season_composite.loc[4064,'WPIE']\n",
    "df_season_composite.loc[4064,'FG_PCT'] = df_season_composite.loc[4064,'WeFGP']\n",
    "df_season_composite.loc[4064,'TURNOVER_RATE'] = df_season_composite.loc[4064,'WTOR']\n",
    "df_season_composite.loc[4064,'OFF_REB_PCT'] = df_season_composite.loc[4064,'WORP']\n",
    "df_season_composite.loc[4064,'FT_RATE'] = df_season_composite.loc[4064,'WFTAR']\n",
    "df_season_composite.loc[4064,'4FACTOR'] = df_season_composite.loc[4064,'W4Factor']\n",
    "df_season_composite.loc[4064,'OFF_EFF'] = df_season_composite.loc[4064,'WOffRtg']\n",
    "df_season_composite.loc[4064,'DEF_EFF'] = df_season_composite.loc[4064,'WDefRtg']\n",
    "df_season_composite.loc[4064,'ASSIST_RATIO'] = df_season_composite.loc[4064,'WAstR']\n",
    "df_season_composite.loc[4064,'DEF_REB_PCT'] = df_season_composite.loc[4064,'WDRP']\n",
    "df_season_composite.loc[4064,'FT_PCT'] = df_season_composite.loc[4064,'WFTPCT']\n",
    "\n",
    "df_season_composite.loc[4211,'WINPCT'] = 1\n",
    "df_season_composite.loc[4211,'LOSSES'] = 0\n",
    "df_season_composite.loc[4211,'PIE'] = df_season_composite.loc[4211,'WPIE']\n",
    "df_season_composite.loc[4211,'FG_PCT'] = df_season_composite.loc[4211,'WeFGP']\n",
    "df_season_composite.loc[4211,'TURNOVER_RATE'] = df_season_composite.loc[4211,'WTOR']\n",
    "df_season_composite.loc[4211,'OFF_REB_PCT'] = df_season_composite.loc[4211,'WORP']\n",
    "df_season_composite.loc[4211,'FT_RATE'] = df_season_composite.loc[4211,'WFTAR']\n",
    "df_season_composite.loc[4211,'4FACTOR'] = df_season_composite.loc[4211,'W4Factor']\n",
    "df_season_composite.loc[4211,'OFF_EFF'] = df_season_composite.loc[4211,'WOffRtg']\n",
    "df_season_composite.loc[4211,'DEF_EFF'] = df_season_composite.loc[4211,'WDefRtg']\n",
    "df_season_composite.loc[4211,'ASSIST_RATIO'] = df_season_composite.loc[4211,'WAstR']\n",
    "df_season_composite.loc[4211,'DEF_REB_PCT'] = df_season_composite.loc[4211,'WDRP']\n",
    "df_season_composite.loc[4211,'FT_PCT'] = df_season_composite.loc[4211,'WFTPCT']"
   ]
  },
  {
   "cell_type": "markdown",
   "metadata": {},
   "source": [
    "#### Now we drop all but the final summary stats."
   ]
  },
  {
   "cell_type": "code",
   "execution_count": 24,
   "metadata": {},
   "outputs": [],
   "source": [
    "df_season_composite.drop(['WINS','WPIE','WeFGP','WTOR','WORP','WFTAR','W4Factor','WOffRtg','WDefRtg','WAstR','WDRP','WFTPCT'], axis=1, inplace=True)\n",
    "df_season_composite.drop(['LOSSES','LPIE','LeFGP','LTOR','LORP','LFTAR','L4Factor','LOffRtg','LDefRtg','LAstR','LDRP','LFTPCT'], axis=1, inplace=True)"
   ]
  },
  {
   "cell_type": "code",
   "execution_count": 25,
   "metadata": {},
   "outputs": [
    {
     "data": {
      "text/html": [
       "<div>\n",
       "<style>\n",
       "    .dataframe thead tr:only-child th {\n",
       "        text-align: right;\n",
       "    }\n",
       "\n",
       "    .dataframe thead th {\n",
       "        text-align: left;\n",
       "    }\n",
       "\n",
       "    .dataframe tbody tr th {\n",
       "        vertical-align: top;\n",
       "    }\n",
       "</style>\n",
       "<table border=\"1\" class=\"dataframe\">\n",
       "  <thead>\n",
       "    <tr style=\"text-align: right;\">\n",
       "      <th></th>\n",
       "      <th>Season</th>\n",
       "      <th>TeamID</th>\n",
       "      <th>PIE</th>\n",
       "      <th>FG_PCT</th>\n",
       "      <th>TURNOVER_RATE</th>\n",
       "      <th>OFF_REB_PCT</th>\n",
       "      <th>FT_RATE</th>\n",
       "      <th>4FACTOR</th>\n",
       "      <th>OFF_EFF</th>\n",
       "      <th>DEF_EFF</th>\n",
       "      <th>ASSIST_RATIO</th>\n",
       "      <th>DEF_REB_PCT</th>\n",
       "      <th>FT_PCT</th>\n",
       "      <th>WINPCT</th>\n",
       "    </tr>\n",
       "  </thead>\n",
       "  <tbody>\n",
       "    <tr>\n",
       "      <th>0</th>\n",
       "      <td>2003</td>\n",
       "      <td>1102</td>\n",
       "      <td>0.488599</td>\n",
       "      <td>0.584407</td>\n",
       "      <td>0.193121</td>\n",
       "      <td>0.168235</td>\n",
       "      <td>0.446693</td>\n",
       "      <td>0.382694</td>\n",
       "      <td>109.413676</td>\n",
       "      <td>109.196437</td>\n",
       "      <td>17.806128</td>\n",
       "      <td>0.630384</td>\n",
       "      <td>0.642402</td>\n",
       "      <td>0.428571</td>\n",
       "    </tr>\n",
       "    <tr>\n",
       "      <th>1</th>\n",
       "      <td>2003</td>\n",
       "      <td>1103</td>\n",
       "      <td>0.509717</td>\n",
       "      <td>0.536564</td>\n",
       "      <td>0.159805</td>\n",
       "      <td>0.305803</td>\n",
       "      <td>0.465135</td>\n",
       "      <td>0.385508</td>\n",
       "      <td>116.646559</td>\n",
       "      <td>116.357791</td>\n",
       "      <td>15.919638</td>\n",
       "      <td>0.626998</td>\n",
       "      <td>0.735271</td>\n",
       "      <td>0.481481</td>\n",
       "    </tr>\n",
       "    <tr>\n",
       "      <th>2</th>\n",
       "      <td>2003</td>\n",
       "      <td>1104</td>\n",
       "      <td>0.536514</td>\n",
       "      <td>0.475785</td>\n",
       "      <td>0.167275</td>\n",
       "      <td>0.371256</td>\n",
       "      <td>0.372350</td>\n",
       "      <td>0.362236</td>\n",
       "      <td>108.962065</td>\n",
       "      <td>102.913066</td>\n",
       "      <td>13.098331</td>\n",
       "      <td>0.686897</td>\n",
       "      <td>0.705168</td>\n",
       "      <td>0.607143</td>\n",
       "    </tr>\n",
       "    <tr>\n",
       "      <th>3</th>\n",
       "      <td>2003</td>\n",
       "      <td>1105</td>\n",
       "      <td>0.415050</td>\n",
       "      <td>0.457983</td>\n",
       "      <td>0.207792</td>\n",
       "      <td>0.335166</td>\n",
       "      <td>0.359501</td>\n",
       "      <td>0.356100</td>\n",
       "      <td>98.566149</td>\n",
       "      <td>105.483276</td>\n",
       "      <td>13.828799</td>\n",
       "      <td>0.641434</td>\n",
       "      <td>0.709598</td>\n",
       "      <td>0.269231</td>\n",
       "    </tr>\n",
       "    <tr>\n",
       "      <th>4</th>\n",
       "      <td>2003</td>\n",
       "      <td>1106</td>\n",
       "      <td>0.527568</td>\n",
       "      <td>0.481697</td>\n",
       "      <td>0.213721</td>\n",
       "      <td>0.349480</td>\n",
       "      <td>0.307563</td>\n",
       "      <td>0.362140</td>\n",
       "      <td>98.671208</td>\n",
       "      <td>99.137679</td>\n",
       "      <td>12.652692</td>\n",
       "      <td>0.679342</td>\n",
       "      <td>0.623158</td>\n",
       "      <td>0.464286</td>\n",
       "    </tr>\n",
       "  </tbody>\n",
       "</table>\n",
       "</div>"
      ],
      "text/plain": [
       "   Season  TeamID       PIE    FG_PCT  TURNOVER_RATE  OFF_REB_PCT   FT_RATE  \\\n",
       "0    2003    1102  0.488599  0.584407       0.193121     0.168235  0.446693   \n",
       "1    2003    1103  0.509717  0.536564       0.159805     0.305803  0.465135   \n",
       "2    2003    1104  0.536514  0.475785       0.167275     0.371256  0.372350   \n",
       "3    2003    1105  0.415050  0.457983       0.207792     0.335166  0.359501   \n",
       "4    2003    1106  0.527568  0.481697       0.213721     0.349480  0.307563   \n",
       "\n",
       "    4FACTOR     OFF_EFF     DEF_EFF  ASSIST_RATIO  DEF_REB_PCT    FT_PCT  \\\n",
       "0  0.382694  109.413676  109.196437     17.806128     0.630384  0.642402   \n",
       "1  0.385508  116.646559  116.357791     15.919638     0.626998  0.735271   \n",
       "2  0.362236  108.962065  102.913066     13.098331     0.686897  0.705168   \n",
       "3  0.356100   98.566149  105.483276     13.828799     0.641434  0.709598   \n",
       "4  0.362140   98.671208   99.137679     12.652692     0.679342  0.623158   \n",
       "\n",
       "     WINPCT  \n",
       "0  0.428571  \n",
       "1  0.481481  \n",
       "2  0.607143  \n",
       "3  0.269231  \n",
       "4  0.464286  "
      ]
     },
     "execution_count": 25,
     "metadata": {},
     "output_type": "execute_result"
    }
   ],
   "source": [
    "columns = list(df_season_composite.columns.values) \n",
    "columns.pop(columns.index('WINPCT')) \n",
    "columns.append('WINPCT')\n",
    "df_season_composite = df_season_composite[columns]\n",
    "df_season_composite.rename(columns={'WTeamID':'TeamID'}, inplace=True)\n",
    "df_season_composite.head()"
   ]
  },
  {
   "cell_type": "markdown",
   "metadata": {},
   "source": [
    "#### The next statistic we want to add is called the Elo Rating found at the following:\n",
    "\n",
    "- https://en.wikipedia.org/wiki/Elo_rating_system\n",
    "- https://fivethirtyeight.com/features/how-we-calculate-nba-elo-ratings/\n",
    "- https://github.com/fivethirtyeight/nfl-elo-game/blob/master/forecast.py\n",
    "\n",
    "\n",
    "#### The Elo Rating System was \"originally invented as an improved chess rating system, but is also used as a rating system for multiplayer competition\" including basketball which is how we will use it.\n",
    "\n",
    "#### The Elo Rating is calculated from the following:\n",
    "\n",
    "$$\n",
    "E_A = \\frac{1}{1+10^{\\frac{(R_B - R_A)}{400}}}\n",
    "$$\n",
    "\n",
    "\n",
    "$$\n",
    "E_B = \\frac{1}{1+10^{\\frac{(R_A - R_B)}{400}}}\n",
    "$$\n",
    "\n",
    "#### where $R_A$ is Team A Rating\n",
    "#### and $R_B$ is Team B Rating\n",
    "\n",
    "\n",
    "\n",
    "#### Nates Silver's NBA Elo Algorithm  \n",
    "#### Nate Silver has created his own Elo Algorithm for the NBA for the following:\n",
    "\n",
    "#### Single Season:  \n",
    "\n",
    "$$R_{0}=1300$$\n",
    "\n",
    "$$R_{i+1}=K(S_{team}-E_{team})R_i$$ where R is Elo rating, $S$=1 if the team wins and $S=0$ for a loss. $E$ represents the expected win probability in Nate's formula and is defined as $$E_{\\text{team}}=\\frac{1}{1+10^{\\frac{\\text{opp_elo}-\\text{team_elo}}{400}}}.$$ In chess K is a fixed constant but Nate changes K to handle margin of victory. Nate Silver's K is $$\\text{K}=20\\frac{(\\text{MOV}_{winner}+3)^{0.8}}{7.5+0.006(\\text{elo_difference}_{winner})}.$$ where $$\\text{elo difference}_{winner}=\\text{winning_elo}-\\text{losing_elo}.$$ Nate also takes into account home advantage by increasing the rating of the home team by 100 as in $R_{\\text{home}}=R_\\text{team}+100$. \n",
    "The only other consideration is what to do in between seasons. Nate handles this by reverting each team towards a mean of 1505 as in the following formula $$R_{s=i+1}=(0.75)R_{s=i}+(0.25)1505.$$\n"
   ]
  },
  {
   "cell_type": "markdown",
   "metadata": {},
   "source": [
    "#### The following code is taken from the following link:  \n",
    "\n",
    "https://www.kaggle.com/lpkirwin/fivethirtyeight-elo-ratings"
   ]
  },
  {
   "cell_type": "code",
   "execution_count": 26,
   "metadata": {},
   "outputs": [],
   "source": [
    "k = 20  # Based on FiveThirtyEight's calculation of NBA games\n",
    "home_advantage = 100 # Adding 100 for teams playing at home"
   ]
  },
  {
   "cell_type": "code",
   "execution_count": 27,
   "metadata": {},
   "outputs": [],
   "source": [
    "df_compact = pd.read_csv(\"./data/RegularSeasonCompactResults.csv\")"
   ]
  },
  {
   "cell_type": "code",
   "execution_count": 28,
   "metadata": {},
   "outputs": [
    {
     "data": {
      "text/plain": [
       "364"
      ]
     },
     "execution_count": 28,
     "metadata": {},
     "output_type": "execute_result"
    }
   ],
   "source": [
    "team_ids = set(df_compact.WTeamID).union(set(df_compact.LTeamID))\n",
    "len(team_ids)"
   ]
  },
  {
   "cell_type": "code",
   "execution_count": 29,
   "metadata": {},
   "outputs": [],
   "source": [
    "# This dictionary will be used as a lookup for current\n",
    "# scores while the algorithm is iterating through each game\n",
    "elo_dict = dict(zip(list(team_ids), [1500] * len(team_ids)))"
   ]
  },
  {
   "cell_type": "code",
   "execution_count": 30,
   "metadata": {},
   "outputs": [],
   "source": [
    "# Elo updates will be scaled based on the margin of victory\n",
    "df_compact['margin'] = df_compact.WScore - df_compact.LScore"
   ]
  },
  {
   "cell_type": "code",
   "execution_count": 31,
   "metadata": {},
   "outputs": [],
   "source": [
    "def elo_pred(elo1, elo2):\n",
    "    return(1. / (10. ** (-(elo1 - elo2) / 400.) + 1.))\n",
    "\n",
    "def expected_margin(elo_diff):\n",
    "    return((7.5 + 0.006 * elo_diff))\n",
    "\n",
    "def elo_update(w_elo, l_elo, margin):\n",
    "    elo_diff = w_elo - l_elo\n",
    "    pred = elo_pred(w_elo, l_elo)\n",
    "    mult = ((margin + 3.) ** 0.8) / expected_margin(elo_diff)\n",
    "    update = k * mult * (1 - pred)\n",
    "    return(pred, update)"
   ]
  },
  {
   "cell_type": "code",
   "execution_count": 32,
   "metadata": {},
   "outputs": [],
   "source": [
    "preds = []\n",
    "w_elo = []\n",
    "l_elo = []\n",
    "\n",
    "# Loop over all rows of the games dataframe\n",
    "for row in df_compact.itertuples():\n",
    "    \n",
    "    # Get key data from current row\n",
    "    w = row.WTeamID\n",
    "    l = row.LTeamID\n",
    "    margin = row.margin\n",
    "    wloc = row.WLoc\n",
    "    \n",
    "    # Does either team get a home-court advantage?\n",
    "    w_ad, l_ad, = 0., 0.\n",
    "    if wloc == \"H\":\n",
    "        w_ad += home_advantage\n",
    "    elif wloc == \"A\":\n",
    "        l_ad += home_advantage\n",
    "    \n",
    "    # Get elo updates as a result of the game\n",
    "    pred, update = elo_update(elo_dict[w] + w_ad,\n",
    "                              elo_dict[l] + l_ad, \n",
    "                              margin)\n",
    "    elo_dict[w] += update\n",
    "    elo_dict[l] -= update\n",
    "    \n",
    "    # Save prediction and new Elos for each round\n",
    "    preds.append(pred)\n",
    "    w_elo.append(elo_dict[w])\n",
    "    l_elo.append(elo_dict[l])"
   ]
  },
  {
   "cell_type": "code",
   "execution_count": 33,
   "metadata": {},
   "outputs": [],
   "source": [
    "df_compact['w_elo'] = w_elo\n",
    "df_compact['l_elo'] = l_elo"
   ]
  },
  {
   "cell_type": "code",
   "execution_count": 34,
   "metadata": {},
   "outputs": [],
   "source": [
    "def final_elo_per_season(df, team_id):\n",
    "    d = df.copy()\n",
    "    d = d.loc[(d.WTeamID == team_id) | (d.LTeamID == team_id), :]\n",
    "    d.sort_values(['Season', 'DayNum'], inplace=True)\n",
    "    d.drop_duplicates(['Season'], keep='last', inplace=True)\n",
    "    w_mask = d.WTeamID == team_id\n",
    "    l_mask = d.LTeamID == team_id\n",
    "    d['Season_ELO'] = None\n",
    "    d.loc[w_mask, 'Season_ELO'] = d.loc[w_mask, 'w_elo']\n",
    "    d.loc[l_mask, 'Season_ELO'] = d.loc[l_mask, 'l_elo']\n",
    "    out = pd.DataFrame({\n",
    "        'TeamID': team_id,  \n",
    "        'Season': d.Season,\n",
    "        'Season_ELO': d.Season_ELO\n",
    "    })\n",
    "    return(out)"
   ]
  },
  {
   "cell_type": "code",
   "execution_count": 35,
   "metadata": {},
   "outputs": [],
   "source": [
    "df_list = [final_elo_per_season(df_compact, id) for id in team_ids]\n",
    "season_elos = pd.concat(df_list)"
   ]
  },
  {
   "cell_type": "code",
   "execution_count": 36,
   "metadata": {},
   "outputs": [],
   "source": [
    "season_elos = season_elos.reset_index(drop = True)"
   ]
  },
  {
   "cell_type": "code",
   "execution_count": 37,
   "metadata": {},
   "outputs": [],
   "source": [
    "season_elos = season_elos.reindex(columns=['Season', 'TeamID', 'Season_ELO'])\n",
    "#season_elos = season_elos.rename(columns = {'season':'Season', 'team_id':'TeamID', 'season_elo':'Season_ELO'})"
   ]
  },
  {
   "cell_type": "code",
   "execution_count": 38,
   "metadata": {},
   "outputs": [
    {
     "data": {
      "text/html": [
       "<div>\n",
       "<style>\n",
       "    .dataframe thead tr:only-child th {\n",
       "        text-align: right;\n",
       "    }\n",
       "\n",
       "    .dataframe thead th {\n",
       "        text-align: left;\n",
       "    }\n",
       "\n",
       "    .dataframe tbody tr th {\n",
       "        vertical-align: top;\n",
       "    }\n",
       "</style>\n",
       "<table border=\"1\" class=\"dataframe\">\n",
       "  <thead>\n",
       "    <tr style=\"text-align: right;\">\n",
       "      <th></th>\n",
       "      <th>Season</th>\n",
       "      <th>TeamID</th>\n",
       "      <th>Season_ELO</th>\n",
       "    </tr>\n",
       "  </thead>\n",
       "  <tbody>\n",
       "    <tr>\n",
       "      <th>0</th>\n",
       "      <td>2014</td>\n",
       "      <td>1101</td>\n",
       "      <td>1330.43</td>\n",
       "    </tr>\n",
       "    <tr>\n",
       "      <th>1</th>\n",
       "      <td>2015</td>\n",
       "      <td>1101</td>\n",
       "      <td>1215.48</td>\n",
       "    </tr>\n",
       "    <tr>\n",
       "      <th>2</th>\n",
       "      <td>2016</td>\n",
       "      <td>1101</td>\n",
       "      <td>1222.17</td>\n",
       "    </tr>\n",
       "    <tr>\n",
       "      <th>3</th>\n",
       "      <td>2017</td>\n",
       "      <td>1101</td>\n",
       "      <td>1238.54</td>\n",
       "    </tr>\n",
       "    <tr>\n",
       "      <th>4</th>\n",
       "      <td>2018</td>\n",
       "      <td>1101</td>\n",
       "      <td>1295.42</td>\n",
       "    </tr>\n",
       "  </tbody>\n",
       "</table>\n",
       "</div>"
      ],
      "text/plain": [
       "   Season  TeamID Season_ELO\n",
       "0    2014    1101    1330.43\n",
       "1    2015    1101    1215.48\n",
       "2    2016    1101    1222.17\n",
       "3    2017    1101    1238.54\n",
       "4    2018    1101    1295.42"
      ]
     },
     "execution_count": 38,
     "metadata": {},
     "output_type": "execute_result"
    }
   ],
   "source": [
    "season_elos.head()"
   ]
  },
  {
   "cell_type": "markdown",
   "metadata": {},
   "source": [
    "#### We bring in our Combined Metrics from Ken Pomeroy(https://kenpom.com/).  His end of season rankings are also included in the Massey Ordinals files supplied by Kaggle, but I don't use those here (as seen below).  He uses his own algorithm to calculate several team metrics including:\n",
    "\n",
    " - Adusted Efficiency Margin\n",
    " - Adjusted Offensive Efficiency\n",
    " - Adjusted Defensive Efficiency\n",
    " - Adjusted Temp (possessions per 40 minutes)\n",
    " - Luck Rating\n",
    " - Strength of Schedule Ratings for in-conference and non-conference play\n",
    " - Adjusted Offensive Efficieny of Opposing Offenses\n",
    " - Adjusted Defensive Efficiency of Opposing Defenses\n",
    "\n",
    "#### The RPI rankings in the Massey file are empty for 2003 and 2004 so we start looking at data from 2005."
   ]
  },
  {
   "cell_type": "code",
   "execution_count": 39,
   "metadata": {},
   "outputs": [],
   "source": [
    "kenpom = pd.read_csv('./data/kenpom.csv')"
   ]
  },
  {
   "cell_type": "code",
   "execution_count": 40,
   "metadata": {},
   "outputs": [],
   "source": [
    "season_composite = df_season_composite[(df_season_composite['Season'] >= 2005)]\n",
    "season_elos = season_elos[(season_elos['Season'] >= 2005)]"
   ]
  },
  {
   "cell_type": "code",
   "execution_count": 41,
   "metadata": {},
   "outputs": [],
   "source": [
    "df_season_composite = pd.merge(left=season_composite, right=kenpom, how='left', on=['Season', 'TeamID'])"
   ]
  },
  {
   "cell_type": "code",
   "execution_count": 42,
   "metadata": {},
   "outputs": [],
   "source": [
    "df_season_composite = pd.merge(left=df_season_composite, right=season_elos, how='left', on=['Season', 'TeamID'])"
   ]
  },
  {
   "cell_type": "code",
   "execution_count": 43,
   "metadata": {},
   "outputs": [
    {
     "data": {
      "text/html": [
       "<div>\n",
       "<style>\n",
       "    .dataframe thead tr:only-child th {\n",
       "        text-align: right;\n",
       "    }\n",
       "\n",
       "    .dataframe thead th {\n",
       "        text-align: left;\n",
       "    }\n",
       "\n",
       "    .dataframe tbody tr th {\n",
       "        vertical-align: top;\n",
       "    }\n",
       "</style>\n",
       "<table border=\"1\" class=\"dataframe\">\n",
       "  <thead>\n",
       "    <tr style=\"text-align: right;\">\n",
       "      <th></th>\n",
       "      <th>Season</th>\n",
       "      <th>TeamID</th>\n",
       "      <th>PIE</th>\n",
       "      <th>FG_PCT</th>\n",
       "      <th>TURNOVER_RATE</th>\n",
       "      <th>OFF_REB_PCT</th>\n",
       "      <th>FT_RATE</th>\n",
       "      <th>4FACTOR</th>\n",
       "      <th>OFF_EFF</th>\n",
       "      <th>DEF_EFF</th>\n",
       "      <th>...</th>\n",
       "      <th>AdjEM</th>\n",
       "      <th>AdjO</th>\n",
       "      <th>AdjD</th>\n",
       "      <th>AdjT</th>\n",
       "      <th>Luck</th>\n",
       "      <th>AdjEM_SOS</th>\n",
       "      <th>OppO_SOS</th>\n",
       "      <th>OppD_SOS</th>\n",
       "      <th>AdjEM_NCSOS</th>\n",
       "      <th>Season_ELO</th>\n",
       "    </tr>\n",
       "  </thead>\n",
       "  <tbody>\n",
       "    <tr>\n",
       "      <th>0</th>\n",
       "      <td>2005</td>\n",
       "      <td>1102</td>\n",
       "      <td>0.581554</td>\n",
       "      <td>0.545641</td>\n",
       "      <td>0.157220</td>\n",
       "      <td>0.268673</td>\n",
       "      <td>0.286681</td>\n",
       "      <td>0.354298</td>\n",
       "      <td>114.739196</td>\n",
       "      <td>102.703017</td>\n",
       "      <td>...</td>\n",
       "      <td>13.40</td>\n",
       "      <td>112.2</td>\n",
       "      <td>98.9</td>\n",
       "      <td>54.3</td>\n",
       "      <td>-0.084</td>\n",
       "      <td>2.63</td>\n",
       "      <td>104.4</td>\n",
       "      <td>101.8</td>\n",
       "      <td>-1.50</td>\n",
       "      <td>1681.01</td>\n",
       "    </tr>\n",
       "    <tr>\n",
       "      <th>1</th>\n",
       "      <td>2005</td>\n",
       "      <td>1103</td>\n",
       "      <td>0.566102</td>\n",
       "      <td>0.518413</td>\n",
       "      <td>0.170315</td>\n",
       "      <td>0.305823</td>\n",
       "      <td>0.376753</td>\n",
       "      <td>0.367621</td>\n",
       "      <td>110.374878</td>\n",
       "      <td>102.159802</td>\n",
       "      <td>...</td>\n",
       "      <td>10.10</td>\n",
       "      <td>106.0</td>\n",
       "      <td>95.9</td>\n",
       "      <td>66.2</td>\n",
       "      <td>-0.014</td>\n",
       "      <td>2.55</td>\n",
       "      <td>105.7</td>\n",
       "      <td>103.2</td>\n",
       "      <td>-1.97</td>\n",
       "      <td>1593.4</td>\n",
       "    </tr>\n",
       "    <tr>\n",
       "      <th>2</th>\n",
       "      <td>2005</td>\n",
       "      <td>1104</td>\n",
       "      <td>0.662333</td>\n",
       "      <td>0.555191</td>\n",
       "      <td>0.167572</td>\n",
       "      <td>0.335826</td>\n",
       "      <td>0.466920</td>\n",
       "      <td>0.401172</td>\n",
       "      <td>119.497372</td>\n",
       "      <td>103.191905</td>\n",
       "      <td>...</td>\n",
       "      <td>20.51</td>\n",
       "      <td>118.8</td>\n",
       "      <td>98.3</td>\n",
       "      <td>62.8</td>\n",
       "      <td>0.033</td>\n",
       "      <td>6.84</td>\n",
       "      <td>106.5</td>\n",
       "      <td>99.6</td>\n",
       "      <td>-1.28</td>\n",
       "      <td>1895.52</td>\n",
       "    </tr>\n",
       "    <tr>\n",
       "      <th>3</th>\n",
       "      <td>2005</td>\n",
       "      <td>1105</td>\n",
       "      <td>0.542129</td>\n",
       "      <td>0.454552</td>\n",
       "      <td>0.178428</td>\n",
       "      <td>0.310825</td>\n",
       "      <td>0.450515</td>\n",
       "      <td>0.356170</td>\n",
       "      <td>98.001955</td>\n",
       "      <td>96.139165</td>\n",
       "      <td>...</td>\n",
       "      <td>-12.49</td>\n",
       "      <td>90.5</td>\n",
       "      <td>102.9</td>\n",
       "      <td>72.8</td>\n",
       "      <td>-0.023</td>\n",
       "      <td>-14.52</td>\n",
       "      <td>92.4</td>\n",
       "      <td>106.9</td>\n",
       "      <td>1.14</td>\n",
       "      <td>1325.6</td>\n",
       "    </tr>\n",
       "    <tr>\n",
       "      <th>4</th>\n",
       "      <td>2005</td>\n",
       "      <td>1106</td>\n",
       "      <td>0.463953</td>\n",
       "      <td>0.430332</td>\n",
       "      <td>0.204059</td>\n",
       "      <td>0.337985</td>\n",
       "      <td>0.460868</td>\n",
       "      <td>0.359875</td>\n",
       "      <td>93.206235</td>\n",
       "      <td>98.199491</td>\n",
       "      <td>...</td>\n",
       "      <td>-15.76</td>\n",
       "      <td>87.1</td>\n",
       "      <td>102.8</td>\n",
       "      <td>61.8</td>\n",
       "      <td>0.083</td>\n",
       "      <td>-12.85</td>\n",
       "      <td>93.7</td>\n",
       "      <td>106.6</td>\n",
       "      <td>1.14</td>\n",
       "      <td>1324.15</td>\n",
       "    </tr>\n",
       "  </tbody>\n",
       "</table>\n",
       "<p>5 rows × 24 columns</p>\n",
       "</div>"
      ],
      "text/plain": [
       "   Season  TeamID       PIE    FG_PCT  TURNOVER_RATE  OFF_REB_PCT   FT_RATE  \\\n",
       "0    2005    1102  0.581554  0.545641       0.157220     0.268673  0.286681   \n",
       "1    2005    1103  0.566102  0.518413       0.170315     0.305823  0.376753   \n",
       "2    2005    1104  0.662333  0.555191       0.167572     0.335826  0.466920   \n",
       "3    2005    1105  0.542129  0.454552       0.178428     0.310825  0.450515   \n",
       "4    2005    1106  0.463953  0.430332       0.204059     0.337985  0.460868   \n",
       "\n",
       "    4FACTOR     OFF_EFF     DEF_EFF     ...      AdjEM   AdjO   AdjD  AdjT  \\\n",
       "0  0.354298  114.739196  102.703017     ...      13.40  112.2   98.9  54.3   \n",
       "1  0.367621  110.374878  102.159802     ...      10.10  106.0   95.9  66.2   \n",
       "2  0.401172  119.497372  103.191905     ...      20.51  118.8   98.3  62.8   \n",
       "3  0.356170   98.001955   96.139165     ...     -12.49   90.5  102.9  72.8   \n",
       "4  0.359875   93.206235   98.199491     ...     -15.76   87.1  102.8  61.8   \n",
       "\n",
       "    Luck  AdjEM_SOS  OppO_SOS  OppD_SOS  AdjEM_NCSOS  Season_ELO  \n",
       "0 -0.084       2.63     104.4     101.8        -1.50     1681.01  \n",
       "1 -0.014       2.55     105.7     103.2        -1.97      1593.4  \n",
       "2  0.033       6.84     106.5      99.6        -1.28     1895.52  \n",
       "3 -0.023     -14.52      92.4     106.9         1.14      1325.6  \n",
       "4  0.083     -12.85      93.7     106.6         1.14     1324.15  \n",
       "\n",
       "[5 rows x 24 columns]"
      ]
     },
     "execution_count": 43,
     "metadata": {},
     "output_type": "execute_result"
    }
   ],
   "source": [
    "df_season_composite.head()"
   ]
  },
  {
   "cell_type": "markdown",
   "metadata": {},
   "source": [
    "#### Let's look at a Heatmap of our features so far with the following observations:\n",
    "\n",
    "1.  PIE and Winning Percentage are heavily correlated\n",
    "2.  NBA Stuffer's Offensive Efficiency and Ken Pom's Adjusted Offensive Efficiency are correlated\n",
    "3.  Strength of Schedule and Opponent Offensive Efficiency are correlated\n",
    "4.  Strength of Schedule and Opponent Defensive Efficiency are negatively correlated"
   ]
  },
  {
   "cell_type": "code",
   "execution_count": 44,
   "metadata": {},
   "outputs": [
    {
     "data": {
      "image/png": "[encoded data removed]",
      "text/plain": [
       "<matplotlib.figure.Figure at 0x1fb3ae22c18>"
      ]
     },
     "metadata": {},
     "output_type": "display_data"
    }
   ],
   "source": [
    "corrmatrix = df_season_composite.iloc[:, 2:].corr()\n",
    "\n",
    "f, ax = plt.subplots(figsize=(15, 15))\n",
    "sns.heatmap(corrmatrix, vmax=.8, cbar=True, annot=True, square=True);"
   ]
  },
  {
   "cell_type": "markdown",
   "metadata": {},
   "source": [
    "#### For Strength of Schedule, I will use the RPI ranking (https://en.wikipedia.org/wiki/Rating_percentage_index) of the teams before entering the tournament.\n",
    "\n",
    "$$RPI = 0.25(WIN_{Percentage}) + 0.50(Win_{PercentageofOpp}) + 0.25(Win_{PercentageofOppOpp})$$"
   ]
  },
  {
   "cell_type": "code",
   "execution_count": 45,
   "metadata": {},
   "outputs": [
    {
     "name": "stderr",
     "output_type": "stream",
     "text": [
      "C:\\Users\\aggie\\Anaconda3\\lib\\site-packages\\ipykernel\\__main__.py:3: SettingWithCopyWarning: \n",
      "A value is trying to be set on a copy of a slice from a DataFrame\n",
      "\n",
      "See the caveats in the documentation: http://pandas.pydata.org/pandas-docs/stable/indexing.html#indexing-view-versus-copy\n",
      "  app.launch_new_instance()\n"
     ]
    },
    {
     "data": {
      "text/html": [
       "<div>\n",
       "<style>\n",
       "    .dataframe thead tr:only-child th {\n",
       "        text-align: right;\n",
       "    }\n",
       "\n",
       "    .dataframe thead th {\n",
       "        text-align: left;\n",
       "    }\n",
       "\n",
       "    .dataframe tbody tr th {\n",
       "        vertical-align: top;\n",
       "    }\n",
       "</style>\n",
       "<table border=\"1\" class=\"dataframe\">\n",
       "  <thead>\n",
       "    <tr style=\"text-align: right;\">\n",
       "      <th></th>\n",
       "      <th>Season</th>\n",
       "      <th>TeamID</th>\n",
       "      <th>OrdinalRank</th>\n",
       "    </tr>\n",
       "  </thead>\n",
       "  <tbody>\n",
       "    <tr>\n",
       "      <th>394034</th>\n",
       "      <td>2005</td>\n",
       "      <td>1102</td>\n",
       "      <td>112</td>\n",
       "    </tr>\n",
       "    <tr>\n",
       "      <th>394035</th>\n",
       "      <td>2005</td>\n",
       "      <td>1103</td>\n",
       "      <td>40</td>\n",
       "    </tr>\n",
       "    <tr>\n",
       "      <th>394036</th>\n",
       "      <td>2005</td>\n",
       "      <td>1104</td>\n",
       "      <td>13</td>\n",
       "    </tr>\n",
       "    <tr>\n",
       "      <th>394037</th>\n",
       "      <td>2005</td>\n",
       "      <td>1105</td>\n",
       "      <td>237</td>\n",
       "    </tr>\n",
       "    <tr>\n",
       "      <th>394038</th>\n",
       "      <td>2005</td>\n",
       "      <td>1106</td>\n",
       "      <td>249</td>\n",
       "    </tr>\n",
       "  </tbody>\n",
       "</table>\n",
       "</div>"
      ],
      "text/plain": [
       "        Season  TeamID  OrdinalRank\n",
       "394034    2005    1102          112\n",
       "394035    2005    1103           40\n",
       "394036    2005    1104           13\n",
       "394037    2005    1105          237\n",
       "394038    2005    1106          249"
      ]
     },
     "execution_count": 45,
     "metadata": {},
     "output_type": "execute_result"
    }
   ],
   "source": [
    "df_RPI = df_rankings[df_rankings['SystemName'] == 'RPI']\n",
    "df_RPI_final = df_RPI[df_RPI['RankingDayNum'] == 128]\n",
    "df_RPI_final.drop(labels=['RankingDayNum', 'SystemName'], inplace=True, axis=1)\n",
    "df_RPI_final = df_RPI_final[(df_RPI_final['Season'] >= 2005)]\n",
    "df_RPI_final.head()"
   ]
  },
  {
   "cell_type": "markdown",
   "metadata": {},
   "source": [
    "#### Now we will get the seeds of the teams for all tournament games converting the seeds to integers."
   ]
  },
  {
   "cell_type": "code",
   "execution_count": 46,
   "metadata": {},
   "outputs": [
    {
     "data": {
      "text/html": [
       "<div>\n",
       "<style>\n",
       "    .dataframe thead tr:only-child th {\n",
       "        text-align: right;\n",
       "    }\n",
       "\n",
       "    .dataframe thead th {\n",
       "        text-align: left;\n",
       "    }\n",
       "\n",
       "    .dataframe tbody tr th {\n",
       "        vertical-align: top;\n",
       "    }\n",
       "</style>\n",
       "<table border=\"1\" class=\"dataframe\">\n",
       "  <thead>\n",
       "    <tr style=\"text-align: right;\">\n",
       "      <th></th>\n",
       "      <th>Season</th>\n",
       "      <th>TeamID</th>\n",
       "      <th>Seed</th>\n",
       "    </tr>\n",
       "  </thead>\n",
       "  <tbody>\n",
       "    <tr>\n",
       "      <th>0</th>\n",
       "      <td>1985</td>\n",
       "      <td>1207</td>\n",
       "      <td>1</td>\n",
       "    </tr>\n",
       "    <tr>\n",
       "      <th>1</th>\n",
       "      <td>1985</td>\n",
       "      <td>1210</td>\n",
       "      <td>2</td>\n",
       "    </tr>\n",
       "    <tr>\n",
       "      <th>2</th>\n",
       "      <td>1985</td>\n",
       "      <td>1228</td>\n",
       "      <td>3</td>\n",
       "    </tr>\n",
       "    <tr>\n",
       "      <th>3</th>\n",
       "      <td>1985</td>\n",
       "      <td>1260</td>\n",
       "      <td>4</td>\n",
       "    </tr>\n",
       "    <tr>\n",
       "      <th>4</th>\n",
       "      <td>1985</td>\n",
       "      <td>1374</td>\n",
       "      <td>5</td>\n",
       "    </tr>\n",
       "  </tbody>\n",
       "</table>\n",
       "</div>"
      ],
      "text/plain": [
       "   Season  TeamID  Seed\n",
       "0    1985    1207     1\n",
       "1    1985    1210     2\n",
       "2    1985    1228     3\n",
       "3    1985    1260     4\n",
       "4    1985    1374     5"
      ]
     },
     "execution_count": 46,
     "metadata": {},
     "output_type": "execute_result"
    }
   ],
   "source": [
    "df_seeds['seed_int'] = df_seeds['Seed'].apply( lambda x : int(x[1:3]) )\n",
    "df_seeds.drop(labels=['Seed'], inplace=True, axis=1) \n",
    "df_seeds.rename(columns={'seed_int':'Seed'},inplace=True)\n",
    "df_seeds.head()"
   ]
  },
  {
   "cell_type": "markdown",
   "metadata": {},
   "source": [
    "#### Now we want to create a dataFrame of Team Features for all seasons.  Rankings started in 2003, but only have RPI data from 2005."
   ]
  },
  {
   "cell_type": "code",
   "execution_count": 47,
   "metadata": {},
   "outputs": [],
   "source": [
    "df_seeds_final = df_seeds[df_seeds['Season'] >= 2005]\n",
    "\n",
    "df_tourney_stage = pd.merge(left=df_seeds_final, right=df_RPI_final, how='left', on=['Season', 'TeamID'])\n",
    "df_tourney_final = pd.merge(left=df_tourney_stage, right=df_season_composite, how='left', on=['Season', 'TeamID'])"
   ]
  },
  {
   "cell_type": "markdown",
   "metadata": {},
   "source": [
    "#### Now we want to generate a list of all the matchups in the tournament since 2013 (can go back to 2003 if I have the data)"
   ]
  },
  {
   "cell_type": "code",
   "execution_count": 48,
   "metadata": {},
   "outputs": [],
   "source": [
    "df_tourney_list = pd.read_csv('./data/NCAATourneyCompactResults.csv')\n",
    "df_tourney_list.drop(labels=['DayNum', 'WScore', 'LScore', 'WLoc', 'NumOT'], inplace=True, axis=1)\n",
    "df_tourney_list = df_tourney_list[df_tourney_list['Season'] >= 2005]\n",
    "df_tourney_list.reset_index(inplace = True, drop=True)"
   ]
  },
  {
   "cell_type": "markdown",
   "metadata": {},
   "source": [
    "#### Now we get the features from the winning and losing teams..."
   ]
  },
  {
   "cell_type": "code",
   "execution_count": 49,
   "metadata": {},
   "outputs": [],
   "source": [
    "df_model_winners = pd.merge(left=df_tourney_list, right=df_tourney_final ,how='left', left_on=['Season', 'WTeamID'], right_on=['Season', 'TeamID'])\n",
    "df_model_winners.drop(labels=['TeamID'], inplace=True, axis=1)\n",
    "\n",
    "df_model_losers = pd.merge(left=df_tourney_list, right=df_tourney_final ,how='left', left_on=['Season', 'LTeamID'], right_on=['Season', 'TeamID'])\n",
    "df_model_losers.drop(labels=['TeamID'], inplace=True, axis=1)"
   ]
  },
  {
   "cell_type": "markdown",
   "metadata": {},
   "source": [
    "#### ...and generate the differences between winning and losing team features assigning 1 as the classifier for winning and 0 as the classifier for losing..."
   ]
  },
  {
   "cell_type": "code",
   "execution_count": 50,
   "metadata": {},
   "outputs": [],
   "source": [
    "df_model_winner_diff = (df_model_winners.iloc[:, 3:] - df_model_losers.iloc[:, 3:])\n",
    "df_model_winner_diff['result'] = 1\n",
    "df_model_winner_diff = pd.merge(left=df_model_winner_diff, right=df_tourney_list, left_index=True, right_index=True, how='inner')\n",
    "\n",
    "df_model_loser_diff = (df_model_losers.iloc[:, 3:] - df_model_winners.iloc[:, 3:])\n",
    "df_model_loser_diff['result'] = 0\n",
    "df_model_loser_diff = pd.merge(left=df_model_loser_diff, right=df_tourney_list, left_index=True, right_index=True, how='inner')"
   ]
  },
  {
   "cell_type": "markdown",
   "metadata": {},
   "source": [
    "#### ...and combine them all to create a tourney predictions dataFrame."
   ]
  },
  {
   "cell_type": "code",
   "execution_count": 51,
   "metadata": {},
   "outputs": [],
   "source": [
    "df_predictions_tourney = pd.concat((df_model_winner_diff, df_model_loser_diff), axis=0)\n",
    "df_predictions_tourney.sort_values('Season', inplace=True)\n",
    "df_predictions_tourney.reset_index(inplace = True, drop=True)"
   ]
  },
  {
   "cell_type": "code",
   "execution_count": 52,
   "metadata": {},
   "outputs": [
    {
     "data": {
      "text/html": [
       "<div>\n",
       "<style>\n",
       "    .dataframe thead tr:only-child th {\n",
       "        text-align: right;\n",
       "    }\n",
       "\n",
       "    .dataframe thead th {\n",
       "        text-align: left;\n",
       "    }\n",
       "\n",
       "    .dataframe tbody tr th {\n",
       "        vertical-align: top;\n",
       "    }\n",
       "</style>\n",
       "<table border=\"1\" class=\"dataframe\">\n",
       "  <thead>\n",
       "    <tr style=\"text-align: right;\">\n",
       "      <th></th>\n",
       "      <th>Seed</th>\n",
       "      <th>OrdinalRank</th>\n",
       "      <th>PIE</th>\n",
       "      <th>FG_PCT</th>\n",
       "      <th>TURNOVER_RATE</th>\n",
       "      <th>OFF_REB_PCT</th>\n",
       "      <th>FT_RATE</th>\n",
       "      <th>4FACTOR</th>\n",
       "      <th>OFF_EFF</th>\n",
       "      <th>DEF_EFF</th>\n",
       "      <th>...</th>\n",
       "      <th>Luck</th>\n",
       "      <th>AdjEM_SOS</th>\n",
       "      <th>OppO_SOS</th>\n",
       "      <th>OppD_SOS</th>\n",
       "      <th>AdjEM_NCSOS</th>\n",
       "      <th>Season_ELO</th>\n",
       "      <th>result</th>\n",
       "      <th>Season</th>\n",
       "      <th>WTeamID</th>\n",
       "      <th>LTeamID</th>\n",
       "    </tr>\n",
       "  </thead>\n",
       "  <tbody>\n",
       "    <tr>\n",
       "      <th>0</th>\n",
       "      <td>0</td>\n",
       "      <td>-18.0</td>\n",
       "      <td>-0.065855</td>\n",
       "      <td>0.052546</td>\n",
       "      <td>-0.023263</td>\n",
       "      <td>0.028533</td>\n",
       "      <td>-0.055467</td>\n",
       "      <td>0.012589</td>\n",
       "      <td>13.613617</td>\n",
       "      <td>19.954684</td>\n",
       "      <td>...</td>\n",
       "      <td>0.001</td>\n",
       "      <td>16.51</td>\n",
       "      <td>12.8</td>\n",
       "      <td>-3.7</td>\n",
       "      <td>13.23</td>\n",
       "      <td>131.501</td>\n",
       "      <td>1</td>\n",
       "      <td>2005</td>\n",
       "      <td>1324</td>\n",
       "      <td>1105</td>\n",
       "    </tr>\n",
       "    <tr>\n",
       "      <th>1</th>\n",
       "      <td>13</td>\n",
       "      <td>127.0</td>\n",
       "      <td>-0.031576</td>\n",
       "      <td>-0.073963</td>\n",
       "      <td>0.020017</td>\n",
       "      <td>-0.038345</td>\n",
       "      <td>0.071169</td>\n",
       "      <td>-0.021575</td>\n",
       "      <td>-18.781055</td>\n",
       "      <td>-8.788508</td>\n",
       "      <td>...</td>\n",
       "      <td>0.022</td>\n",
       "      <td>-14.34</td>\n",
       "      <td>-7.7</td>\n",
       "      <td>6.7</td>\n",
       "      <td>-6.81</td>\n",
       "      <td>-510.832</td>\n",
       "      <td>0</td>\n",
       "      <td>2005</td>\n",
       "      <td>1329</td>\n",
       "      <td>1368</td>\n",
       "    </tr>\n",
       "    <tr>\n",
       "      <th>2</th>\n",
       "      <td>15</td>\n",
       "      <td>215.0</td>\n",
       "      <td>-0.193842</td>\n",
       "      <td>-0.052560</td>\n",
       "      <td>-0.029080</td>\n",
       "      <td>-0.057046</td>\n",
       "      <td>-0.068337</td>\n",
       "      <td>-0.049954</td>\n",
       "      <td>-9.535419</td>\n",
       "      <td>19.756223</td>\n",
       "      <td>...</td>\n",
       "      <td>-0.033</td>\n",
       "      <td>-9.65</td>\n",
       "      <td>-3.5</td>\n",
       "      <td>6.1</td>\n",
       "      <td>10.11</td>\n",
       "      <td>-536.665</td>\n",
       "      <td>0</td>\n",
       "      <td>2005</td>\n",
       "      <td>1314</td>\n",
       "      <td>1324</td>\n",
       "    </tr>\n",
       "    <tr>\n",
       "      <th>3</th>\n",
       "      <td>-3</td>\n",
       "      <td>-55.0</td>\n",
       "      <td>-0.005031</td>\n",
       "      <td>-0.039170</td>\n",
       "      <td>-0.007003</td>\n",
       "      <td>0.045268</td>\n",
       "      <td>0.015982</td>\n",
       "      <td>-0.005968</td>\n",
       "      <td>-2.974829</td>\n",
       "      <td>-0.596986</td>\n",
       "      <td>...</td>\n",
       "      <td>0.104</td>\n",
       "      <td>-6.37</td>\n",
       "      <td>-3.4</td>\n",
       "      <td>2.9</td>\n",
       "      <td>2.08</td>\n",
       "      <td>-99.3099</td>\n",
       "      <td>0</td>\n",
       "      <td>2005</td>\n",
       "      <td>1301</td>\n",
       "      <td>1150</td>\n",
       "    </tr>\n",
       "    <tr>\n",
       "      <th>4</th>\n",
       "      <td>-1</td>\n",
       "      <td>9.0</td>\n",
       "      <td>-0.055364</td>\n",
       "      <td>-0.021140</td>\n",
       "      <td>-0.009435</td>\n",
       "      <td>-0.058021</td>\n",
       "      <td>-0.035476</td>\n",
       "      <td>-0.027740</td>\n",
       "      <td>-3.497655</td>\n",
       "      <td>2.884055</td>\n",
       "      <td>...</td>\n",
       "      <td>0.011</td>\n",
       "      <td>1.98</td>\n",
       "      <td>0.6</td>\n",
       "      <td>-1.3</td>\n",
       "      <td>5.98</td>\n",
       "      <td>-6.39604</td>\n",
       "      <td>0</td>\n",
       "      <td>2005</td>\n",
       "      <td>1280</td>\n",
       "      <td>1390</td>\n",
       "    </tr>\n",
       "  </tbody>\n",
       "</table>\n",
       "<p>5 rows × 28 columns</p>\n",
       "</div>"
      ],
      "text/plain": [
       "   Seed  OrdinalRank       PIE    FG_PCT  TURNOVER_RATE  OFF_REB_PCT  \\\n",
       "0     0        -18.0 -0.065855  0.052546      -0.023263     0.028533   \n",
       "1    13        127.0 -0.031576 -0.073963       0.020017    -0.038345   \n",
       "2    15        215.0 -0.193842 -0.052560      -0.029080    -0.057046   \n",
       "3    -3        -55.0 -0.005031 -0.039170      -0.007003     0.045268   \n",
       "4    -1          9.0 -0.055364 -0.021140      -0.009435    -0.058021   \n",
       "\n",
       "    FT_RATE   4FACTOR    OFF_EFF    DEF_EFF   ...      Luck  AdjEM_SOS  \\\n",
       "0 -0.055467  0.012589  13.613617  19.954684   ...     0.001      16.51   \n",
       "1  0.071169 -0.021575 -18.781055  -8.788508   ...     0.022     -14.34   \n",
       "2 -0.068337 -0.049954  -9.535419  19.756223   ...    -0.033      -9.65   \n",
       "3  0.015982 -0.005968  -2.974829  -0.596986   ...     0.104      -6.37   \n",
       "4 -0.035476 -0.027740  -3.497655   2.884055   ...     0.011       1.98   \n",
       "\n",
       "   OppO_SOS  OppD_SOS  AdjEM_NCSOS  Season_ELO  result  Season  WTeamID  \\\n",
       "0      12.8      -3.7        13.23     131.501       1    2005     1324   \n",
       "1      -7.7       6.7        -6.81    -510.832       0    2005     1329   \n",
       "2      -3.5       6.1        10.11    -536.665       0    2005     1314   \n",
       "3      -3.4       2.9         2.08    -99.3099       0    2005     1301   \n",
       "4       0.6      -1.3         5.98    -6.39604       0    2005     1280   \n",
       "\n",
       "   LTeamID  \n",
       "0     1105  \n",
       "1     1368  \n",
       "2     1324  \n",
       "3     1150  \n",
       "4     1390  \n",
       "\n",
       "[5 rows x 28 columns]"
      ]
     },
     "execution_count": 52,
     "metadata": {},
     "output_type": "execute_result"
    }
   ],
   "source": [
    "df_predictions_tourney.head()"
   ]
  },
  {
   "cell_type": "code",
   "execution_count": 53,
   "metadata": {},
   "outputs": [],
   "source": [
    "kenpom_missing = ~df_predictions_tourney['AdjEM'].isnull()\n",
    "df_predictions_tourney = df_predictions_tourney[kenpom_missing].copy()"
   ]
  },
  {
   "cell_type": "code",
   "execution_count": 54,
   "metadata": {},
   "outputs": [],
   "source": [
    "ordinalrank_missing = ~df_predictions_tourney['OrdinalRank'].isnull()\n",
    "df_predictions_tourney = df_predictions_tourney[ordinalrank_missing].copy()"
   ]
  },
  {
   "cell_type": "code",
   "execution_count": 55,
   "metadata": {},
   "outputs": [],
   "source": [
    "kenpom_missing = ~df_tourney_final['AdjEM'].isnull()\n",
    "df_tourney_final = df_tourney_final[kenpom_missing].copy()"
   ]
  },
  {
   "cell_type": "code",
   "execution_count": 56,
   "metadata": {},
   "outputs": [],
   "source": [
    "ordinalrank_missing = ~df_tourney_final['OrdinalRank'].isnull()\n",
    "df_tourney_final = df_tourney_final[ordinalrank_missing].copy()"
   ]
  },
  {
   "cell_type": "markdown",
   "metadata": {},
   "source": [
    "#### Now we are done with our features.  Time to start modeling in the next installment...!!!"
   ]
  },
  {
   "cell_type": "code",
   "execution_count": null,
   "metadata": {},
   "outputs": [],
   "source": [
    "df_predictions_tourney.to_csv('./data/features.csv')"
   ]
  },
  {
   "cell_type": "code",
   "execution_count": null,
   "metadata": {},
   "outputs": [],
   "source": [
    "df_tourney_final.to_csv('./data/df_tourney_final.csv')"
   ]
  },
  {
   "cell_type": "code",
   "execution_count": null,
   "metadata": {},
   "outputs": [],
   "source": []
  }
 ],
 "metadata": {
  "kernelspec": {
   "display_name": "Python [conda env:Anaconda3]",
   "language": "python",
   "name": "conda-env-Anaconda3-py"
  },
  "language_info": {
   "codemirror_mode": {
    "name": "ipython",
    "version": 3
   },
   "file_extension": ".py",
   "mimetype": "text/x-python",
   "name": "python",
   "nbconvert_exporter": "python",
   "pygments_lexer": "ipython3",
   "version": "3.6.4"
  }
 },
 "nbformat": 4,
 "nbformat_minor": 2
}
