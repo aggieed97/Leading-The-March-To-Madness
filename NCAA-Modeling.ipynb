{
 "cells": [
  {
   "cell_type": "markdown",
   "metadata": {},
   "source": [
    "<h1><center><font color=blue>**Leading the March to Madness**</font></center></h1>\n",
    "<h3><center>General Assembly Data Science Immersive Capstone Project</center></h3> \n",
    "<h4><center>Data and Description at https://www.kaggle.com/c/mens-machine-learning-competition-2018</center></h4>"
   ]
  },
  {
   "cell_type": "code",
   "execution_count": 1,
   "metadata": {},
   "outputs": [],
   "source": [
    "import numpy as np \n",
    "import pandas as pd\n",
    "\n",
    "import matplotlib.pyplot as plt\n",
    "%matplotlib inline\n",
    "import seaborn as sns\n",
    "\n",
    "from sklearn.utils import shuffle\n",
    "from sklearn.model_selection import GridSearchCV, train_test_split, StratifiedKFold, cross_val_score, cross_val_predict\n",
    "from sklearn.pipeline import Pipeline\n",
    "from sklearn import preprocessing, metrics, svm, ensemble\n",
    "from sklearn.preprocessing import StandardScaler, PolynomialFeatures\n",
    "from sklearn.decomposition import PCA\n",
    "from sklearn.linear_model import LogisticRegression, LogisticRegressionCV\n",
    "from sklearn.neighbors import KNeighborsClassifier\n",
    "from sklearn.tree import DecisionTreeClassifier\n",
    "from sklearn.ensemble import RandomForestClassifier, GradientBoostingClassifier, ExtraTreesClassifier, AdaBoostClassifier, BaggingClassifier\n",
    "from sklearn.naive_bayes import GaussianNB\n",
    "from xgboost.sklearn import XGBClassifier\n",
    "from sklearn.svm import SVC\n",
    "from sklearn.metrics import accuracy_score, roc_curve, auc, classification_report, confusion_matrix"
   ]
  },
  {
   "cell_type": "code",
   "execution_count": 9,
   "metadata": {},
   "outputs": [],
   "source": [
    "df_predictions_tourney = pd.read_csv('./data/features.csv', index_col=0)\n",
    "df_tourney_final = pd.read_csv('./data/df_tourney_final.csv', index_col=0)\n",
    "df_sample_sub = pd.read_csv('./data/SampleSubmissionStage2.csv')"
   ]
  },
  {
   "cell_type": "code",
   "execution_count": 10,
   "metadata": {},
   "outputs": [
    {
     "data": {
      "text/html": [
       "<div>\n",
       "<style>\n",
       "    .dataframe thead tr:only-child th {\n",
       "        text-align: right;\n",
       "    }\n",
       "\n",
       "    .dataframe thead th {\n",
       "        text-align: left;\n",
       "    }\n",
       "\n",
       "    .dataframe tbody tr th {\n",
       "        vertical-align: top;\n",
       "    }\n",
       "</style>\n",
       "<table border=\"1\" class=\"dataframe\">\n",
       "  <thead>\n",
       "    <tr style=\"text-align: right;\">\n",
       "      <th></th>\n",
       "      <th>Seed</th>\n",
       "      <th>OrdinalRank</th>\n",
       "      <th>PIE</th>\n",
       "      <th>FG_PCT</th>\n",
       "      <th>TURNOVER_RATE</th>\n",
       "      <th>OFF_REB_PCT</th>\n",
       "      <th>FT_RATE</th>\n",
       "      <th>4FACTOR</th>\n",
       "      <th>OFF_EFF</th>\n",
       "      <th>DEF_EFF</th>\n",
       "      <th>...</th>\n",
       "      <th>Luck</th>\n",
       "      <th>AdjEM_SOS</th>\n",
       "      <th>OppO_SOS</th>\n",
       "      <th>OppD_SOS</th>\n",
       "      <th>AdjEM_NCSOS</th>\n",
       "      <th>Season_ELO</th>\n",
       "      <th>result</th>\n",
       "      <th>Season</th>\n",
       "      <th>WTeamID</th>\n",
       "      <th>LTeamID</th>\n",
       "    </tr>\n",
       "  </thead>\n",
       "  <tbody>\n",
       "    <tr>\n",
       "      <th>0</th>\n",
       "      <td>0</td>\n",
       "      <td>-18.0</td>\n",
       "      <td>-0.065855</td>\n",
       "      <td>0.052546</td>\n",
       "      <td>-0.023263</td>\n",
       "      <td>0.028533</td>\n",
       "      <td>-0.055467</td>\n",
       "      <td>0.012589</td>\n",
       "      <td>13.613617</td>\n",
       "      <td>19.954684</td>\n",
       "      <td>...</td>\n",
       "      <td>0.001</td>\n",
       "      <td>16.51</td>\n",
       "      <td>12.8</td>\n",
       "      <td>-3.7</td>\n",
       "      <td>13.23</td>\n",
       "      <td>131.501230</td>\n",
       "      <td>1</td>\n",
       "      <td>2005</td>\n",
       "      <td>1324</td>\n",
       "      <td>1105</td>\n",
       "    </tr>\n",
       "    <tr>\n",
       "      <th>1</th>\n",
       "      <td>13</td>\n",
       "      <td>127.0</td>\n",
       "      <td>-0.031576</td>\n",
       "      <td>-0.073963</td>\n",
       "      <td>0.020017</td>\n",
       "      <td>-0.038345</td>\n",
       "      <td>0.071169</td>\n",
       "      <td>-0.021575</td>\n",
       "      <td>-18.781055</td>\n",
       "      <td>-8.788508</td>\n",
       "      <td>...</td>\n",
       "      <td>0.022</td>\n",
       "      <td>-14.34</td>\n",
       "      <td>-7.7</td>\n",
       "      <td>6.7</td>\n",
       "      <td>-6.81</td>\n",
       "      <td>-510.831761</td>\n",
       "      <td>0</td>\n",
       "      <td>2005</td>\n",
       "      <td>1329</td>\n",
       "      <td>1368</td>\n",
       "    </tr>\n",
       "    <tr>\n",
       "      <th>2</th>\n",
       "      <td>15</td>\n",
       "      <td>215.0</td>\n",
       "      <td>-0.193842</td>\n",
       "      <td>-0.052560</td>\n",
       "      <td>-0.029080</td>\n",
       "      <td>-0.057046</td>\n",
       "      <td>-0.068337</td>\n",
       "      <td>-0.049954</td>\n",
       "      <td>-9.535419</td>\n",
       "      <td>19.756223</td>\n",
       "      <td>...</td>\n",
       "      <td>-0.033</td>\n",
       "      <td>-9.65</td>\n",
       "      <td>-3.5</td>\n",
       "      <td>6.1</td>\n",
       "      <td>10.11</td>\n",
       "      <td>-536.664569</td>\n",
       "      <td>0</td>\n",
       "      <td>2005</td>\n",
       "      <td>1314</td>\n",
       "      <td>1324</td>\n",
       "    </tr>\n",
       "    <tr>\n",
       "      <th>3</th>\n",
       "      <td>-3</td>\n",
       "      <td>-55.0</td>\n",
       "      <td>-0.005031</td>\n",
       "      <td>-0.039170</td>\n",
       "      <td>-0.007003</td>\n",
       "      <td>0.045268</td>\n",
       "      <td>0.015982</td>\n",
       "      <td>-0.005968</td>\n",
       "      <td>-2.974829</td>\n",
       "      <td>-0.596986</td>\n",
       "      <td>...</td>\n",
       "      <td>0.104</td>\n",
       "      <td>-6.37</td>\n",
       "      <td>-3.4</td>\n",
       "      <td>2.9</td>\n",
       "      <td>2.08</td>\n",
       "      <td>-99.309868</td>\n",
       "      <td>0</td>\n",
       "      <td>2005</td>\n",
       "      <td>1301</td>\n",
       "      <td>1150</td>\n",
       "    </tr>\n",
       "    <tr>\n",
       "      <th>4</th>\n",
       "      <td>-1</td>\n",
       "      <td>9.0</td>\n",
       "      <td>-0.055364</td>\n",
       "      <td>-0.021140</td>\n",
       "      <td>-0.009435</td>\n",
       "      <td>-0.058021</td>\n",
       "      <td>-0.035476</td>\n",
       "      <td>-0.027740</td>\n",
       "      <td>-3.497655</td>\n",
       "      <td>2.884055</td>\n",
       "      <td>...</td>\n",
       "      <td>0.011</td>\n",
       "      <td>1.98</td>\n",
       "      <td>0.6</td>\n",
       "      <td>-1.3</td>\n",
       "      <td>5.98</td>\n",
       "      <td>-6.396041</td>\n",
       "      <td>0</td>\n",
       "      <td>2005</td>\n",
       "      <td>1280</td>\n",
       "      <td>1390</td>\n",
       "    </tr>\n",
       "  </tbody>\n",
       "</table>\n",
       "<p>5 rows × 28 columns</p>\n",
       "</div>"
      ],
      "text/plain": [
       "   Seed  OrdinalRank       PIE    FG_PCT  TURNOVER_RATE  OFF_REB_PCT  \\\n",
       "0     0        -18.0 -0.065855  0.052546      -0.023263     0.028533   \n",
       "1    13        127.0 -0.031576 -0.073963       0.020017    -0.038345   \n",
       "2    15        215.0 -0.193842 -0.052560      -0.029080    -0.057046   \n",
       "3    -3        -55.0 -0.005031 -0.039170      -0.007003     0.045268   \n",
       "4    -1          9.0 -0.055364 -0.021140      -0.009435    -0.058021   \n",
       "\n",
       "    FT_RATE   4FACTOR    OFF_EFF    DEF_EFF   ...      Luck  AdjEM_SOS  \\\n",
       "0 -0.055467  0.012589  13.613617  19.954684   ...     0.001      16.51   \n",
       "1  0.071169 -0.021575 -18.781055  -8.788508   ...     0.022     -14.34   \n",
       "2 -0.068337 -0.049954  -9.535419  19.756223   ...    -0.033      -9.65   \n",
       "3  0.015982 -0.005968  -2.974829  -0.596986   ...     0.104      -6.37   \n",
       "4 -0.035476 -0.027740  -3.497655   2.884055   ...     0.011       1.98   \n",
       "\n",
       "   OppO_SOS  OppD_SOS  AdjEM_NCSOS  Season_ELO  result  Season  WTeamID  \\\n",
       "0      12.8      -3.7        13.23  131.501230       1    2005     1324   \n",
       "1      -7.7       6.7        -6.81 -510.831761       0    2005     1329   \n",
       "2      -3.5       6.1        10.11 -536.664569       0    2005     1314   \n",
       "3      -3.4       2.9         2.08  -99.309868       0    2005     1301   \n",
       "4       0.6      -1.3         5.98   -6.396041       0    2005     1280   \n",
       "\n",
       "   LTeamID  \n",
       "0     1105  \n",
       "1     1368  \n",
       "2     1324  \n",
       "3     1150  \n",
       "4     1390  \n",
       "\n",
       "[5 rows x 28 columns]"
      ]
     },
     "execution_count": 10,
     "metadata": {},
     "output_type": "execute_result"
    }
   ],
   "source": [
    "df_predictions_tourney.head()"
   ]
  },
  {
   "cell_type": "markdown",
   "metadata": {},
   "source": [
    "#### Here we will split the dataFrame into its various components for Machine Learning"
   ]
  },
  {
   "cell_type": "code",
   "execution_count": 11,
   "metadata": {},
   "outputs": [
    {
     "data": {
      "text/html": [
       "<div>\n",
       "<style>\n",
       "    .dataframe thead tr:only-child th {\n",
       "        text-align: right;\n",
       "    }\n",
       "\n",
       "    .dataframe thead th {\n",
       "        text-align: left;\n",
       "    }\n",
       "\n",
       "    .dataframe tbody tr th {\n",
       "        vertical-align: top;\n",
       "    }\n",
       "</style>\n",
       "<table border=\"1\" class=\"dataframe\">\n",
       "  <thead>\n",
       "    <tr style=\"text-align: right;\">\n",
       "      <th></th>\n",
       "      <th>Seed</th>\n",
       "      <th>OrdinalRank</th>\n",
       "      <th>PIE</th>\n",
       "      <th>FG_PCT</th>\n",
       "      <th>TURNOVER_RATE</th>\n",
       "      <th>OFF_REB_PCT</th>\n",
       "      <th>FT_RATE</th>\n",
       "      <th>4FACTOR</th>\n",
       "      <th>OFF_EFF</th>\n",
       "      <th>DEF_EFF</th>\n",
       "      <th>...</th>\n",
       "      <th>AdjEM</th>\n",
       "      <th>AdjO</th>\n",
       "      <th>AdjD</th>\n",
       "      <th>AdjT</th>\n",
       "      <th>Luck</th>\n",
       "      <th>AdjEM_SOS</th>\n",
       "      <th>OppO_SOS</th>\n",
       "      <th>OppD_SOS</th>\n",
       "      <th>AdjEM_NCSOS</th>\n",
       "      <th>Season_ELO</th>\n",
       "    </tr>\n",
       "  </thead>\n",
       "  <tbody>\n",
       "    <tr>\n",
       "      <th>0</th>\n",
       "      <td>0</td>\n",
       "      <td>-18.0</td>\n",
       "      <td>-0.065855</td>\n",
       "      <td>0.052546</td>\n",
       "      <td>-0.023263</td>\n",
       "      <td>0.028533</td>\n",
       "      <td>-0.055467</td>\n",
       "      <td>0.012589</td>\n",
       "      <td>13.613617</td>\n",
       "      <td>19.954684</td>\n",
       "      <td>...</td>\n",
       "      <td>11.29</td>\n",
       "      <td>17.6</td>\n",
       "      <td>6.4</td>\n",
       "      <td>-7.6</td>\n",
       "      <td>0.001</td>\n",
       "      <td>16.51</td>\n",
       "      <td>12.8</td>\n",
       "      <td>-3.7</td>\n",
       "      <td>13.23</td>\n",
       "      <td>131.501230</td>\n",
       "    </tr>\n",
       "    <tr>\n",
       "      <th>1</th>\n",
       "      <td>13</td>\n",
       "      <td>127.0</td>\n",
       "      <td>-0.031576</td>\n",
       "      <td>-0.073963</td>\n",
       "      <td>0.020017</td>\n",
       "      <td>-0.038345</td>\n",
       "      <td>0.071169</td>\n",
       "      <td>-0.021575</td>\n",
       "      <td>-18.781055</td>\n",
       "      <td>-8.788508</td>\n",
       "      <td>...</td>\n",
       "      <td>-21.82</td>\n",
       "      <td>-24.1</td>\n",
       "      <td>-2.3</td>\n",
       "      <td>-6.2</td>\n",
       "      <td>0.022</td>\n",
       "      <td>-14.34</td>\n",
       "      <td>-7.7</td>\n",
       "      <td>6.7</td>\n",
       "      <td>-6.81</td>\n",
       "      <td>-510.831761</td>\n",
       "    </tr>\n",
       "    <tr>\n",
       "      <th>2</th>\n",
       "      <td>15</td>\n",
       "      <td>215.0</td>\n",
       "      <td>-0.193842</td>\n",
       "      <td>-0.052560</td>\n",
       "      <td>-0.029080</td>\n",
       "      <td>-0.057046</td>\n",
       "      <td>-0.068337</td>\n",
       "      <td>-0.049954</td>\n",
       "      <td>-9.535419</td>\n",
       "      <td>19.756223</td>\n",
       "      <td>...</td>\n",
       "      <td>-33.97</td>\n",
       "      <td>-14.4</td>\n",
       "      <td>19.6</td>\n",
       "      <td>-7.9</td>\n",
       "      <td>-0.033</td>\n",
       "      <td>-9.65</td>\n",
       "      <td>-3.5</td>\n",
       "      <td>6.1</td>\n",
       "      <td>10.11</td>\n",
       "      <td>-536.664569</td>\n",
       "    </tr>\n",
       "    <tr>\n",
       "      <th>3</th>\n",
       "      <td>-3</td>\n",
       "      <td>-55.0</td>\n",
       "      <td>-0.005031</td>\n",
       "      <td>-0.039170</td>\n",
       "      <td>-0.007003</td>\n",
       "      <td>0.045268</td>\n",
       "      <td>0.015982</td>\n",
       "      <td>-0.005968</td>\n",
       "      <td>-2.974829</td>\n",
       "      <td>-0.596986</td>\n",
       "      <td>...</td>\n",
       "      <td>-6.78</td>\n",
       "      <td>-3.4</td>\n",
       "      <td>3.4</td>\n",
       "      <td>7.5</td>\n",
       "      <td>0.104</td>\n",
       "      <td>-6.37</td>\n",
       "      <td>-3.4</td>\n",
       "      <td>2.9</td>\n",
       "      <td>2.08</td>\n",
       "      <td>-99.309868</td>\n",
       "    </tr>\n",
       "    <tr>\n",
       "      <th>4</th>\n",
       "      <td>-1</td>\n",
       "      <td>9.0</td>\n",
       "      <td>-0.055364</td>\n",
       "      <td>-0.021140</td>\n",
       "      <td>-0.009435</td>\n",
       "      <td>-0.058021</td>\n",
       "      <td>-0.035476</td>\n",
       "      <td>-0.027740</td>\n",
       "      <td>-3.497655</td>\n",
       "      <td>2.884055</td>\n",
       "      <td>...</td>\n",
       "      <td>-4.62</td>\n",
       "      <td>-2.7</td>\n",
       "      <td>1.9</td>\n",
       "      <td>-1.0</td>\n",
       "      <td>0.011</td>\n",
       "      <td>1.98</td>\n",
       "      <td>0.6</td>\n",
       "      <td>-1.3</td>\n",
       "      <td>5.98</td>\n",
       "      <td>-6.396041</td>\n",
       "    </tr>\n",
       "  </tbody>\n",
       "</table>\n",
       "<p>5 rows × 24 columns</p>\n",
       "</div>"
      ],
      "text/plain": [
       "   Seed  OrdinalRank       PIE    FG_PCT  TURNOVER_RATE  OFF_REB_PCT  \\\n",
       "0     0        -18.0 -0.065855  0.052546      -0.023263     0.028533   \n",
       "1    13        127.0 -0.031576 -0.073963       0.020017    -0.038345   \n",
       "2    15        215.0 -0.193842 -0.052560      -0.029080    -0.057046   \n",
       "3    -3        -55.0 -0.005031 -0.039170      -0.007003     0.045268   \n",
       "4    -1          9.0 -0.055364 -0.021140      -0.009435    -0.058021   \n",
       "\n",
       "    FT_RATE   4FACTOR    OFF_EFF    DEF_EFF     ...      AdjEM  AdjO  AdjD  \\\n",
       "0 -0.055467  0.012589  13.613617  19.954684     ...      11.29  17.6   6.4   \n",
       "1  0.071169 -0.021575 -18.781055  -8.788508     ...     -21.82 -24.1  -2.3   \n",
       "2 -0.068337 -0.049954  -9.535419  19.756223     ...     -33.97 -14.4  19.6   \n",
       "3  0.015982 -0.005968  -2.974829  -0.596986     ...      -6.78  -3.4   3.4   \n",
       "4 -0.035476 -0.027740  -3.497655   2.884055     ...      -4.62  -2.7   1.9   \n",
       "\n",
       "   AdjT   Luck  AdjEM_SOS  OppO_SOS  OppD_SOS  AdjEM_NCSOS  Season_ELO  \n",
       "0  -7.6  0.001      16.51      12.8      -3.7        13.23  131.501230  \n",
       "1  -6.2  0.022     -14.34      -7.7       6.7        -6.81 -510.831761  \n",
       "2  -7.9 -0.033      -9.65      -3.5       6.1        10.11 -536.664569  \n",
       "3   7.5  0.104      -6.37      -3.4       2.9         2.08  -99.309868  \n",
       "4  -1.0  0.011       1.98       0.6      -1.3         5.98   -6.396041  \n",
       "\n",
       "[5 rows x 24 columns]"
      ]
     },
     "execution_count": 11,
     "metadata": {},
     "output_type": "execute_result"
    }
   ],
   "source": [
    "labels = df_predictions_tourney['result']\n",
    "IDs = df_predictions_tourney.iloc[:, 25:]\n",
    "features = df_predictions_tourney.iloc[:, 0:24]\n",
    "features.head()"
   ]
  },
  {
   "cell_type": "markdown",
   "metadata": {},
   "source": [
    "#### We will reserve the 2018 data as our true test set for submission to Kaggle"
   ]
  },
  {
   "cell_type": "code",
   "execution_count": 12,
   "metadata": {},
   "outputs": [],
   "source": [
    "labels_submission = df_predictions_tourney['result'][df_predictions_tourney['Season'] == 2018]\n",
    "IDs_submission = df_predictions_tourney.iloc[1426:, 25:]\n",
    "features_submission = df_predictions_tourney.iloc[1426:,  0:24]"
   ]
  },
  {
   "cell_type": "markdown",
   "metadata": {},
   "source": [
    "#### The following will be our training set"
   ]
  },
  {
   "cell_type": "code",
   "execution_count": 13,
   "metadata": {},
   "outputs": [],
   "source": [
    "y = df_predictions_tourney['result'][df_predictions_tourney['Season'] < 2018]\n",
    "IDs_training = df_predictions_tourney.iloc[:1426, 25:]\n",
    "X = df_predictions_tourney.iloc[:1426, 0:24]"
   ]
  },
  {
   "cell_type": "markdown",
   "metadata": {},
   "source": [
    "#### Since we obviously have just one winner and one loser for all games, baseline accuracy is 50%."
   ]
  },
  {
   "cell_type": "code",
   "execution_count": 14,
   "metadata": {},
   "outputs": [
    {
     "name": "stdout",
     "output_type": "stream",
     "text": [
      "Baseline accuracy is 50.0\n"
     ]
    }
   ],
   "source": [
    "print('Baseline accuracy is', y.value_counts(normalize=True).sort_values().values[-1]*100)"
   ]
  },
  {
   "cell_type": "code",
   "execution_count": 15,
   "metadata": {},
   "outputs": [],
   "source": [
    "ss = StandardScaler()\n",
    "X = ss.fit_transform(X)"
   ]
  },
  {
   "cell_type": "code",
   "execution_count": 16,
   "metadata": {},
   "outputs": [],
   "source": [
    "X_train, X_test, y_train, y_test = train_test_split(X, y, train_size=0.8, test_size=0.2, random_state=1, stratify=y)"
   ]
  },
  {
   "cell_type": "markdown",
   "metadata": {},
   "source": [
    "## Logistic Regression"
   ]
  },
  {
   "cell_type": "code",
   "execution_count": 17,
   "metadata": {},
   "outputs": [
    {
     "name": "stdout",
     "output_type": "stream",
     "text": [
      "Wall time: 12.2 s\n"
     ]
    }
   ],
   "source": [
    "%%time\n",
    "lr =GridSearchCV(\n",
    "    LogisticRegression(),\n",
    "    {\n",
    "        'penalty':['l2', 'l1'],\n",
    "        'C':[0.01, 0.1, 1, 10, 100, 1000],\n",
    "        'fit_intercept':[True, False]\n",
    "\n",
    "    },\n",
    "    scoring = 'neg_log_loss'\n",
    ").fit(X_train, y_train)"
   ]
  },
  {
   "cell_type": "code",
   "execution_count": 18,
   "metadata": {},
   "outputs": [],
   "source": [
    "y_lr_pred = lr.predict(X_test)\n",
    "train_acc = accuracy_score(y_true=y_train, y_pred=lr.predict(X_train))\n",
    "test_acc = accuracy_score(y_true=y_test, y_pred=lr.predict(X_test))"
   ]
  },
  {
   "cell_type": "code",
   "execution_count": 19,
   "metadata": {
    "scrolled": true
   },
   "outputs": [
    {
     "name": "stdout",
     "output_type": "stream",
     "text": [
      "Best paramaters are  {'C': 1000, 'fit_intercept': False, 'penalty': 'l1'}\n",
      "Testing log loss score is 0.34%\n",
      "Best log loss score is 0.40%\n",
      "Training Accuracy is 84.38%\n",
      "Test Accuracy is 85.58%\n",
      "Confusion Matrix:\n",
      "[[84 20]\n",
      " [10 94]]\n",
      "Classification Report:\n",
      "             precision    recall  f1-score   support\n",
      "\n",
      "       Loss       0.89      0.81      0.85       104\n",
      "        Win       0.82      0.90      0.86       104\n",
      "\n",
      "avg / total       0.86      0.86      0.86       208\n",
      "\n"
     ]
    },
    {
     "data": {
      "image/png": "[encoded data removed]",
      "text/plain": [
       "<matplotlib.figure.Figure at 0x21ccf07c320>"
      ]
     },
     "metadata": {},
     "output_type": "display_data"
    }
   ],
   "source": [
    "print('Best paramaters are ', lr.best_params_)\n",
    "print('Testing log loss score is %.2f%%' % -lr.score(X_test, y_test))\n",
    "print('Best log loss score is %.2f%%' % -lr.best_score_)\n",
    "print('Training Accuracy is %.2f%%' % (100 * train_acc))\n",
    "print('Test Accuracy is %.2f%%' % (100 * test_acc))\n",
    "print('Confusion Matrix:')\n",
    "print(confusion_matrix(y_test, lr.predict(X_test)))\n",
    "print('Classification Report:')\n",
    "print(classification_report(y_test, \n",
    "                    y_lr_pred,\n",
    "                    labels=lr.classes_,\n",
    "                    target_names = ['Loss', 'Win']))\n",
    "fpr, tpr, _ = roc_curve(y_test, lr.predict(X_test))\n",
    "\n",
    "roc_auc = auc(fpr, tpr)\n",
    "\n",
    "plt.figure()\n",
    "plt.plot(fpr, tpr, label='ROC curve (area = %0.2f)' % roc_auc, color = 'blue')\n",
    "plt.plot([0, 1], [0,1], 'k--')\n",
    "plt.xlim([0.0, 1.0])\n",
    "plt.ylim([0.0, 1.05])\n",
    "plt.xlabel('False Positive Rate')\n",
    "plt.ylabel('True Positive Rate')\n",
    "plt.title('Receiver Operating Characteristic (ROC) Curve')\n",
    "plt.legend(loc=\"lower right\")\n",
    "plt.show()"
   ]
  },
  {
   "cell_type": "markdown",
   "metadata": {},
   "source": [
    "## Random Forest"
   ]
  },
  {
   "cell_type": "code",
   "execution_count": 20,
   "metadata": {},
   "outputs": [
    {
     "name": "stdout",
     "output_type": "stream",
     "text": [
      "Wall time: 5min 48s\n"
     ]
    }
   ],
   "source": [
    "%%time\n",
    "\n",
    "rf =GridSearchCV(\n",
    "    RandomForestClassifier(),\n",
    "    {\n",
    "        'n_estimators' : list(range(1,20)),\n",
    "        'min_samples_leaf' : list(range(1,20)),\n",
    "        'criterion': ['gini', 'entropy'],\n",
    "        'max_features': ['auto', 'log2'],\n",
    "        'bootstrap': [True, False]\n",
    "    \n",
    "    }, scoring = 'neg_log_loss'\n",
    ").fit(X_train, y_train)"
   ]
  },
  {
   "cell_type": "code",
   "execution_count": 23,
   "metadata": {},
   "outputs": [],
   "source": [
    "y_rf_pred = rf.predict(X_test)\n",
    "train_acc = accuracy_score(y_true=y_train, y_pred=rf.predict(X_train))\n",
    "test_acc = accuracy_score(y_true=y_test, y_pred=rf.predict(X_test))"
   ]
  },
  {
   "cell_type": "code",
   "execution_count": 24,
   "metadata": {
    "scrolled": true
   },
   "outputs": [
    {
     "name": "stdout",
     "output_type": "stream",
     "text": [
      "Best paramaters are  {'bootstrap': True, 'criterion': 'gini', 'max_features': 'log2', 'min_samples_leaf': 19, 'n_estimators': 9}\n",
      "Testing log loss score is 0.53%\n",
      "Best log loss score is 0.51%\n",
      "Training Accuracy is 79.93%\n",
      "Test Accuracy is 74.04%\n",
      "Confusion Matrix:\n",
      "[[69 35]\n",
      " [19 85]]\n",
      "Classification Report:\n",
      "             precision    recall  f1-score   support\n",
      "\n",
      "       Loss       0.78      0.66      0.72       104\n",
      "        Win       0.71      0.82      0.76       104\n",
      "\n",
      "avg / total       0.75      0.74      0.74       208\n",
      "\n"
     ]
    },
    {
     "data": {
      "image/png": "[encoded data removed]",
      "text/plain": [
       "<matplotlib.figure.Figure at 0x21ccfc20d68>"
      ]
     },
     "metadata": {},
     "output_type": "display_data"
    }
   ],
   "source": [
    "print('Best paramaters are ', rf.best_params_)\n",
    "print('Testing log loss score is %.2f%%' % -rf.score(X_test, y_test))\n",
    "print('Best log loss score is %.2f%%' % -rf.best_score_)\n",
    "print('Training Accuracy is %.2f%%' % (100 * train_acc))\n",
    "print('Test Accuracy is %.2f%%' % (100 * test_acc))\n",
    "print('Confusion Matrix:')\n",
    "print(confusion_matrix(y_test, rf.predict(X_test)))\n",
    "print('Classification Report:')\n",
    "print(classification_report(y_test, \n",
    "                    y_rf_pred,\n",
    "                    labels=rf.classes_,\n",
    "                    target_names = ['Loss', 'Win']))\n",
    "\n",
    "fpr, tpr, _ = roc_curve(y_test, rf.predict(X_test))\n",
    "roc_auc = auc(fpr, tpr)\n",
    "\n",
    "plt.figure()\n",
    "plt.plot(fpr, tpr, label='ROC curve (area = %0.2f)' % roc_auc, color = 'blue')\n",
    "plt.plot([0, 1], [0,1], 'k--')\n",
    "plt.xlim([0.0, 1.0])\n",
    "plt.ylim([0.0, 1.05])\n",
    "plt.xlabel('False Positive Rate')\n",
    "plt.ylabel('True Positive Rate')\n",
    "plt.title('Receiver Operating Characteristic (ROC) Curve')\n",
    "plt.legend(loc=\"lower right\")\n",
    "plt.show()"
   ]
  },
  {
   "cell_type": "markdown",
   "metadata": {},
   "source": [
    "## K-Nearest Neighbors"
   ]
  },
  {
   "cell_type": "code",
   "execution_count": 25,
   "metadata": {},
   "outputs": [
    {
     "name": "stdout",
     "output_type": "stream",
     "text": [
      "Wall time: 31.6 s\n"
     ]
    }
   ],
   "source": [
    "%%time\n",
    "\n",
    "knn =GridSearchCV(\n",
    "    KNeighborsClassifier(),\n",
    "    {\n",
    "        'n_neighbors': list(range(1,20)),\n",
    "        'p': [1, 2],\n",
    "        'algorithm': ['auto', 'ball_tree', 'kd_tree', 'brute'],\n",
    "        'weights': ['uniform', 'distance']\n",
    "    }, scoring = 'neg_log_loss'\n",
    ").fit(X_train, y_train)"
   ]
  },
  {
   "cell_type": "code",
   "execution_count": 26,
   "metadata": {},
   "outputs": [],
   "source": [
    "y_knn_pred = knn.predict(X_test)\n",
    "train_acc = accuracy_score(y_true=y_train, y_pred=knn.predict(X_train))\n",
    "test_acc = accuracy_score(y_true=y_test, y_pred=knn.predict(X_test))"
   ]
  },
  {
   "cell_type": "code",
   "execution_count": 27,
   "metadata": {
    "scrolled": true
   },
   "outputs": [
    {
     "name": "stdout",
     "output_type": "stream",
     "text": [
      "Best paramaters are  {'algorithm': 'auto', 'n_neighbors': 19, 'p': 2, 'weights': 'distance'}\n",
      "Testing log loss score is 0.69%\n",
      "Best log loss score is 0.60%\n",
      "Training Accuracy is 100.00%\n",
      "Test Accuracy is 73.08%\n",
      "Confusion Matrix:\n",
      "[[72 32]\n",
      " [24 80]]\n",
      "Classification Report:\n",
      "             precision    recall  f1-score   support\n",
      "\n",
      "       Loss       0.75      0.69      0.72       104\n",
      "        Win       0.71      0.77      0.74       104\n",
      "\n",
      "avg / total       0.73      0.73      0.73       208\n",
      "\n"
     ]
    },
    {
     "data": {
      "image/png": "[encoded data removed]",
      "text/plain": [
       "<matplotlib.figure.Figure at 0x21ccf3147f0>"
      ]
     },
     "metadata": {},
     "output_type": "display_data"
    }
   ],
   "source": [
    "print('Best paramaters are ', knn.best_params_)\n",
    "print('Testing log loss score is %.2f%%' % -knn.score(X_test, y_test))\n",
    "print('Best log loss score is %.2f%%' % -knn.best_score_)\n",
    "print('Training Accuracy is %.2f%%' % (100 * train_acc))\n",
    "print('Test Accuracy is %.2f%%' % (100 * test_acc))\n",
    "print('Confusion Matrix:')\n",
    "print(confusion_matrix(y_test, knn.predict(X_test)))\n",
    "print('Classification Report:')\n",
    "print(classification_report(y_test, \n",
    "                    y_knn_pred,\n",
    "                    labels=knn.classes_,\n",
    "                    target_names = ['Loss', 'Win']))\n",
    "\n",
    "fpr, tpr, _ = roc_curve(y_test, knn.predict(X_test))\n",
    "roc_auc = auc(fpr, tpr)\n",
    "\n",
    "plt.figure()\n",
    "plt.plot(fpr, tpr, label='ROC curve (area = %0.2f)' % roc_auc, color = 'blue')\n",
    "plt.plot([0, 1], [0,1], 'k--')\n",
    "plt.xlim([0.0, 1.0])\n",
    "plt.ylim([0.0, 1.05])\n",
    "plt.xlabel('False Positive Rate')\n",
    "plt.ylabel('True Positive Rate')\n",
    "plt.title('Receiver Operating Characteristic (ROC) Curve')\n",
    "plt.legend(loc=\"lower right\")\n",
    "plt.show()"
   ]
  },
  {
   "cell_type": "markdown",
   "metadata": {},
   "source": [
    "## XGBoost"
   ]
  },
  {
   "cell_type": "code",
   "execution_count": 28,
   "metadata": {},
   "outputs": [
    {
     "name": "stdout",
     "output_type": "stream",
     "text": [
      "Wall time: 1h 40min 55s\n"
     ]
    }
   ],
   "source": [
    "%%time\n",
    "\n",
    "xgb =GridSearchCV(\n",
    "    XGBClassifier(),\n",
    "    {\n",
    "        'learning_rate' : [0.1, 0.3, 0.5, 0.7, 0.9],\n",
    "        'max_depth': list(range(1,10)),\n",
    "        'min_child_weight': list(range(1, 3)),\n",
    "        'n_estimators': list(range(75,125)),\n",
    "        'booster': ['gbtree', 'gblinear', 'dart']\n",
    "    }, scoring = 'neg_log_loss'\n",
    ").fit(X_train, y_train)"
   ]
  },
  {
   "cell_type": "code",
   "execution_count": 29,
   "metadata": {},
   "outputs": [],
   "source": [
    "y_xgb_pred = xgb.predict(X_test)\n",
    "train_acc = accuracy_score(y_true=y_train, y_pred=xgb.predict(X_train))\n",
    "test_acc = accuracy_score(y_true=y_test, y_pred=xgb.predict(X_test))"
   ]
  },
  {
   "cell_type": "code",
   "execution_count": 30,
   "metadata": {
    "scrolled": true
   },
   "outputs": [
    {
     "name": "stdout",
     "output_type": "stream",
     "text": [
      "Best paramaters are  {'booster': 'gblinear', 'learning_rate': 0.9, 'max_depth': 1, 'min_child_weight': 1, 'n_estimators': 79}\n",
      "Testing log loss score is 0.36%\n",
      "Best log loss score is 0.41%\n",
      "Training Accuracy is 82.93%\n",
      "Test Accuracy is 84.13%\n",
      "Confusion Matrix:\n",
      "[[83 21]\n",
      " [12 92]]\n",
      "Classification Report:\n",
      "             precision    recall  f1-score   support\n",
      "\n",
      "       Loss       0.87      0.80      0.83       104\n",
      "        Win       0.81      0.88      0.85       104\n",
      "\n",
      "avg / total       0.84      0.84      0.84       208\n",
      "\n"
     ]
    },
    {
     "data": {
      "image/png": "[encoded data removed]",
      "text/plain": [
       "<matplotlib.figure.Figure at 0x21ccfbfecf8>"
      ]
     },
     "metadata": {},
     "output_type": "display_data"
    }
   ],
   "source": [
    "print('Best paramaters are ', xgb.best_params_)\n",
    "print('Testing log loss score is %.2f%%' % -xgb.score(X_test, y_test))\n",
    "print('Best log loss score is %.2f%%' % -xgb.best_score_)\n",
    "print('Training Accuracy is %.2f%%' % (100 * train_acc))\n",
    "print('Test Accuracy is %.2f%%' % (100 * test_acc))\n",
    "print('Confusion Matrix:')\n",
    "print(confusion_matrix(y_test, xgb.predict(X_test)))\n",
    "print('Classification Report:')\n",
    "print(classification_report(y_test, \n",
    "                    y_xgb_pred,\n",
    "                    labels=xgb.classes_,\n",
    "                    target_names = ['Loss', 'Win']))\n",
    "\n",
    "fpr, tpr, _ = roc_curve(y_test, xgb.predict(X_test))\n",
    "roc_auc = auc(fpr, tpr)\n",
    "\n",
    "plt.figure()\n",
    "plt.plot(fpr, tpr, label='ROC curve (area = %0.2f)' % roc_auc, color = 'blue')\n",
    "plt.plot([0, 1], [0,1], 'k--')\n",
    "plt.xlim([0.0, 1.0])\n",
    "plt.ylim([0.0, 1.05])\n",
    "plt.xlabel('False Positive Rate')\n",
    "plt.ylabel('True Positive Rate')\n",
    "plt.title('Receiver Operating Characteristic (ROC) Curve')\n",
    "plt.legend(loc=\"lower right\")\n",
    "plt.show()"
   ]
  },
  {
   "cell_type": "markdown",
   "metadata": {},
   "source": [
    "## Decision Tree Classifier"
   ]
  },
  {
   "cell_type": "code",
   "execution_count": 31,
   "metadata": {},
   "outputs": [
    {
     "name": "stdout",
     "output_type": "stream",
     "text": [
      "Wall time: 12.1 s\n"
     ]
    }
   ],
   "source": [
    "%%time\n",
    "\n",
    "dt =GridSearchCV(\n",
    "    DecisionTreeClassifier(),\n",
    "    {\n",
    "        'max_depth': list(range(1, 5)),\n",
    "        'criterion': ['gini', 'entropy'],\n",
    "        'min_samples_split' : [2, 3],\n",
    "        'min_samples_leaf' : list(range(1,20)),\n",
    "        'max_features': ['auto', 'log2', 'sqrt']\n",
    "    }, scoring = 'neg_log_loss'\n",
    ").fit(X_train, y_train)"
   ]
  },
  {
   "cell_type": "code",
   "execution_count": 32,
   "metadata": {},
   "outputs": [],
   "source": [
    "y_dt_pred = dt.predict(X_test)\n",
    "train_acc = accuracy_score(y_true=y_train, y_pred=dt.predict(X_train))\n",
    "test_acc = accuracy_score(y_true=y_test, y_pred=dt.predict(X_test))"
   ]
  },
  {
   "cell_type": "code",
   "execution_count": 33,
   "metadata": {
    "scrolled": true
   },
   "outputs": [
    {
     "name": "stdout",
     "output_type": "stream",
     "text": [
      "Best paramaters are  {'criterion': 'entropy', 'max_depth': 2, 'max_features': 'auto', 'min_samples_leaf': 9, 'min_samples_split': 3}\n",
      "Testing log loss score is 0.76%\n",
      "Best log loss score is 0.54%\n",
      "Training Accuracy is 69.95%\n",
      "Test Accuracy is 71.15%\n",
      "Confusion Matrix:\n",
      "[[73 31]\n",
      " [29 75]]\n",
      "Classification Report:\n",
      "             precision    recall  f1-score   support\n",
      "\n",
      "       Loss       0.72      0.70      0.71       104\n",
      "        Win       0.71      0.72      0.71       104\n",
      "\n",
      "avg / total       0.71      0.71      0.71       208\n",
      "\n"
     ]
    },
    {
     "data": {
      "image/png": "[encoded data removed]",
      "text/plain": [
       "<matplotlib.figure.Figure at 0x21ccf99eac8>"
      ]
     },
     "metadata": {},
     "output_type": "display_data"
    }
   ],
   "source": [
    "print('Best paramaters are ', dt.best_params_)\n",
    "print('Testing log loss score is %.2f%%' % -dt.score(X_test, y_test))\n",
    "print('Best log loss score is %.2f%%' % -dt.best_score_)\n",
    "print('Training Accuracy is %.2f%%' % (100 * train_acc))\n",
    "print('Test Accuracy is %.2f%%' % (100 * test_acc))\n",
    "print('Confusion Matrix:')\n",
    "print(confusion_matrix(y_test, dt.predict(X_test)))\n",
    "print('Classification Report:')\n",
    "print(classification_report(y_test, \n",
    "                    y_dt_pred,\n",
    "                    labels=dt.classes_,\n",
    "                    target_names = ['Loss', 'Win']))\n",
    "\n",
    "fpr, tpr, _ = roc_curve(y_test, dt.predict(X_test))\n",
    "roc_auc = auc(fpr, tpr)\n",
    "\n",
    "plt.figure()\n",
    "plt.plot(fpr, tpr, label='ROC curve (area = %0.2f)' % roc_auc, color = 'blue')\n",
    "plt.plot([0, 1], [0,1], 'k--')\n",
    "plt.xlim([0.0, 1.0])\n",
    "plt.ylim([0.0, 1.05])\n",
    "plt.xlabel('False Positive Rate')\n",
    "plt.ylabel('True Positive Rate')\n",
    "plt.title('Receiver Operating Characteristic (ROC) Curve')\n",
    "plt.legend(loc=\"lower right\")\n",
    "plt.show()"
   ]
  },
  {
   "cell_type": "markdown",
   "metadata": {},
   "source": [
    "## Gradient Boosting Classifier"
   ]
  },
  {
   "cell_type": "code",
   "execution_count": 34,
   "metadata": {},
   "outputs": [
    {
     "name": "stdout",
     "output_type": "stream",
     "text": [
      "Wall time: 1min 27s\n"
     ]
    }
   ],
   "source": [
    "%%time\n",
    "\n",
    "gb =GridSearchCV(\n",
    "    GradientBoostingClassifier(),\n",
    "    {\n",
    "        'learning_rate' : [0.01, 0.1, 1, 10, 100],\n",
    "        'loss' : ['deviance','exponential'],\n",
    "        'max_depth': list(range(2, 10))\n",
    "    }, scoring = 'neg_log_loss'\n",
    ").fit(X_train, y_train)"
   ]
  },
  {
   "cell_type": "code",
   "execution_count": 35,
   "metadata": {},
   "outputs": [],
   "source": [
    "y_gb_pred = gb.predict(X_test)\n",
    "train_acc = accuracy_score(y_true=y_train, y_pred=gb.predict(X_train))\n",
    "test_acc = accuracy_score(y_true=y_test, y_pred=gb.predict(X_test))"
   ]
  },
  {
   "cell_type": "code",
   "execution_count": 36,
   "metadata": {
    "scrolled": true
   },
   "outputs": [
    {
     "name": "stdout",
     "output_type": "stream",
     "text": [
      "Best paramaters are  {'learning_rate': 0.1, 'loss': 'deviance', 'max_depth': 2}\n",
      "Testing log loss score is 0.48%\n",
      "Best log loss score is 0.52%\n",
      "Training Accuracy is 87.02%\n",
      "Test Accuracy is 76.92%\n",
      "Confusion Matrix:\n",
      "[[75 29]\n",
      " [19 85]]\n",
      "Classification Report:\n",
      "             precision    recall  f1-score   support\n",
      "\n",
      "       Loss       0.80      0.72      0.76       104\n",
      "        Win       0.75      0.82      0.78       104\n",
      "\n",
      "avg / total       0.77      0.77      0.77       208\n",
      "\n"
     ]
    },
    {
     "data": {
      "image/png": "[encoded data removed]",
      "text/plain": [
       "<matplotlib.figure.Figure at 0x21ccf07c860>"
      ]
     },
     "metadata": {},
     "output_type": "display_data"
    }
   ],
   "source": [
    "print('Best paramaters are ', gb.best_params_)\n",
    "print('Testing log loss score is %.2f%%' % -gb.score(X_test, y_test))\n",
    "print('Best log loss score is %.2f%%' % -gb.best_score_)\n",
    "print('Training Accuracy is %.2f%%' % (100 * train_acc))\n",
    "print('Test Accuracy is %.2f%%' % (100 * test_acc))\n",
    "print('Confusion Matrix:')\n",
    "print(confusion_matrix(y_test, gb.predict(X_test)))\n",
    "print('Classification Report:')\n",
    "print(classification_report(y_test, \n",
    "                    y_gb_pred,\n",
    "                    labels=gb.classes_,\n",
    "                    target_names = ['Loss', 'Win']))\n",
    "\n",
    "fpr, tpr, _ = roc_curve(y_test, gb.predict(X_test))\n",
    "roc_auc = auc(fpr, tpr)\n",
    "\n",
    "plt.figure()\n",
    "plt.plot(fpr, tpr, label='ROC curve (area = %0.2f)' % roc_auc, color = 'blue')\n",
    "plt.plot([0, 1], [0,1], 'k--')\n",
    "plt.xlim([0.0, 1.0])\n",
    "plt.ylim([0.0, 1.05])\n",
    "plt.xlabel('False Positive Rate')\n",
    "plt.ylabel('True Positive Rate')\n",
    "plt.title('Receiver Operating Characteristic (ROC) Curve')\n",
    "plt.legend(loc=\"lower right\")\n",
    "plt.show()"
   ]
  },
  {
   "cell_type": "markdown",
   "metadata": {},
   "source": [
    "#### The following code is taken from the Kaggle Starter Kernel that grabs the teams info, the probable games played between the two teams to help match those games with the probabilities calculated by the models."
   ]
  },
  {
   "cell_type": "code",
   "execution_count": null,
   "metadata": {},
   "outputs": [],
   "source": [
    "#steps for grabbing teams info and creating the input for the model\n",
    "\n",
    "n_test_games = len(df_sample_sub)\n",
    "\n",
    "def get_year_t1_t2(ID):\n",
    "    \"\"\"Return a tuple with ints `year`, `team1` and `team2`.\"\"\"\n",
    "    return (int(x) for x in ID.split('_'))\n",
    "\n",
    "X_test = np.zeros(shape=(n_test_games, 1))\n",
    "column = df_tourney_final.columns.get_values()\n",
    "model = []\n",
    "data = []\n",
    "\n",
    "for ii, row in df_sample_sub.iterrows():\n",
    "    year, t1, t2 = get_year_t1_t2(row.ID)\n",
    "    \n",
    "    team1 = df_tourney_final[(df_tourney_final.TeamID == t1) & (df_tourney_final.Season == year)].values\n",
    "    team2 = df_tourney_final[(df_tourney_final.TeamID == t2) & (df_tourney_final.Season == year)].values\n",
    "    \n",
    "    model = team1 - team2\n",
    "    \n",
    "    data.append(model)"
   ]
  },
  {
   "cell_type": "code",
   "execution_count": null,
   "metadata": {},
   "outputs": [],
   "source": [
    "Predictions = pd.DataFrame(np.array(data).reshape(2278, 26), columns = (column))\n",
    "\n",
    "Predictions.drop(labels=['Season', 'TeamID'], inplace=True, axis=1)\n",
    "\n",
    "Predictions.head()"
   ]
  },
  {
   "cell_type": "markdown",
   "metadata": {},
   "source": [
    "#### The next step generate the predictions and puts it into the submission file for upload to Kaggle."
   ]
  },
  {
   "cell_type": "code",
   "execution_count": null,
   "metadata": {},
   "outputs": [],
   "source": [
    "#generate the predictions\n",
    "\n",
    "preds = gs.predict_proba(Predictions)[:,1]\n",
    "\n",
    "df_sample_sub['Pred'] = preds\n",
    "df_sample_sub.head()"
   ]
  },
  {
   "cell_type": "code",
   "execution_count": null,
   "metadata": {},
   "outputs": [],
   "source": []
  }
 ],
 "metadata": {
  "kernelspec": {
   "display_name": "Python [conda env:Anaconda3]",
   "language": "python",
   "name": "conda-env-Anaconda3-py"
  },
  "language_info": {
   "codemirror_mode": {
    "name": "ipython",
    "version": 3
   },
   "file_extension": ".py",
   "mimetype": "text/x-python",
   "name": "python",
   "nbconvert_exporter": "python",
   "pygments_lexer": "ipython3",
   "version": "3.6.4"
  }
 },
 "nbformat": 4,
 "nbformat_minor": 2
}
